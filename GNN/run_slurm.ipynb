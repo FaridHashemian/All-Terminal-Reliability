{
 "cells": [
  {
   "cell_type": "code",
   "execution_count": 18,
   "metadata": {},
   "outputs": [
    {
     "name": "stdout",
     "output_type": "stream",
     "text": [
      "python main.py --n_embed 256 --e_embed 256 --aggs mean min max std --scalers amplification attenuation --n_pna 5 --hidden 64 --n_mlp_layer 4 --af silu --batch_size 32 --lr 0.0001 --weight_decay 1e-05 --es_episodes 70 --es_improvement 0 --epochs 200 \n",
      "python main.py --n_embed 128 --e_embed 512 --aggs sum min max --scalers identity amplification attenuation --n_pna 5 --hidden 128 --n_mlp_layer 5 --af elu --batch_size 64 --lr 1e-05 --weight_decay 1e-06 --es_episodes 50 --es_improvement 0.001 --epochs 600 \n",
      "python main.py --n_embed 256 --e_embed 256 --aggs mean min max std --scalers identity linear inverse_linear --n_pna 4 --hidden 256 --n_mlp_layer 3 --af relu --batch_size 64 --lr 0.0001 --weight_decay 1e-06 --es_episodes 20 --es_improvement 0.0001 --epochs 400 \n",
      "python main.py --n_embed 512 --e_embed 256 --aggs sum min max --scalers identity linear inverse_linear --n_pna 2 --hidden 256 --n_mlp_layer 2 --af relu --batch_size 128 --lr 1e-05 --weight_decay 0.0001 --es_episodes 70 --es_improvement 0 --epochs 400 \n",
      "python main.py --n_embed 256 --e_embed 128 --aggs sum mean min max std --scalers identity amplification attenuation linear inverse_linear --n_pna 2 --hidden 64 --n_mlp_layer 5 --af elu --batch_size 128 --lr 0.001 --weight_decay 1e-05 --es_episodes 50 --es_improvement 0.001 --epochs 200 \n",
      "python main.py --n_embed 256 --e_embed 512 --aggs sum min max --scalers attenuation linear inverse_linear --n_pna 2 --hidden 128 --n_mlp_layer 4 --af silu --batch_size 128 --lr 0.001 --weight_decay 1e-06 --es_episodes 50 --es_improvement 0.001 --epochs 400 \n",
      "python main.py --n_embed 128 --e_embed 128 --aggs mean std --scalers identity linear --n_pna 3 --hidden 512 --n_mlp_layer 3 --af silu --batch_size 128 --lr 1e-05 --weight_decay 1e-05 --es_episodes 70 --es_improvement 0.0001 --epochs 200 \n",
      "python main.py --n_embed 512 --e_embed 256 --aggs sum min max --scalers identity linear --n_pna 5 --hidden 256 --n_mlp_layer 4 --af relu --batch_size 64 --lr 0.001 --weight_decay 1e-05 --es_episodes 50 --es_improvement 0.001 --epochs 600 \n",
      "python main.py --n_embed 256 --e_embed 512 --aggs mean min max std --scalers amplification attenuation --n_pna 3 --hidden 128 --n_mlp_layer 5 --af tanh --batch_size 64 --lr 0.0001 --weight_decay 0.0001 --es_episodes 70 --es_improvement 0 --epochs 200 \n",
      "python main.py --n_embed 128 --e_embed 256 --aggs mean std --scalers identity amplification attenuation linear --n_pna 2 --hidden 512 --n_mlp_layer 5 --af silu --batch_size 64 --lr 0.001 --weight_decay 1e-06 --es_episodes 70 --es_improvement 0.0001 --epochs 600 \n",
      "python main.py --n_embed 128 --e_embed 256 --aggs sum mean min max std --scalers identity amplification attenuation --n_pna 4 --hidden 512 --n_mlp_layer 3 --af silu --batch_size 32 --lr 0.001 --weight_decay 0.0001 --es_episodes 20 --es_improvement 0.0001 --epochs 600 \n",
      "python main.py --n_embed 128 --e_embed 128 --aggs mean min max std --scalers amplification attenuation linear inverse_linear --n_pna 2 --hidden 256 --n_mlp_layer 2 --af silu --batch_size 64 --lr 0.0001 --weight_decay 1e-06 --es_episodes 20 --es_improvement 0.001 --epochs 600 \n",
      "python main.py --n_embed 512 --e_embed 512 --aggs sum mean min max std --scalers identity linear inverse_linear --n_pna 2 --hidden 256 --n_mlp_layer 4 --af elu --batch_size 128 --lr 1e-05 --weight_decay 1e-06 --es_episodes 20 --es_improvement 0 --epochs 600 \n",
      "python main.py --n_embed 512 --e_embed 256 --aggs sum mean min max std --scalers identity amplification attenuation linear --n_pna 2 --hidden 64 --n_mlp_layer 4 --af silu --batch_size 64 --lr 0.0001 --weight_decay 0.0001 --es_episodes 20 --es_improvement 0 --epochs 600 \n",
      "python main.py --n_embed 128 --e_embed 512 --aggs sum mean min max var std --scalers amplification attenuation linear inverse_linear --n_pna 4 --hidden 128 --n_mlp_layer 3 --af tanh --batch_size 128 --lr 1e-05 --weight_decay 1e-05 --es_episodes 70 --es_improvement 0.0001 --epochs 200 \n",
      "python main.py --n_embed 256 --e_embed 256 --aggs mean std --scalers identity amplification attenuation linear --n_pna 3 --hidden 256 --n_mlp_layer 3 --af silu --batch_size 32 --lr 0.0001 --weight_decay 1e-06 --es_episodes 20 --es_improvement 0.001 --epochs 200 \n",
      "python main.py --n_embed 256 --e_embed 256 --aggs sum mean min max var std --scalers identity amplification attenuation linear inverse_linear --n_pna 2 --hidden 512 --n_mlp_layer 4 --af relu --batch_size 128 --lr 0.0001 --weight_decay 0.0001 --es_episodes 50 --es_improvement 0.0001 --epochs 200 \n",
      "python main.py --n_embed 128 --e_embed 512 --aggs sum mean min max std --scalers amplification attenuation --n_pna 4 --hidden 512 --n_mlp_layer 2 --af tanh --batch_size 128 --lr 0.001 --weight_decay 1e-05 --es_episodes 20 --es_improvement 0.001 --epochs 600 \n",
      "python main.py --n_embed 512 --e_embed 128 --aggs mean min max std --scalers identity amplification attenuation linear inverse_linear --n_pna 5 --hidden 256 --n_mlp_layer 4 --af elu --batch_size 32 --lr 1e-05 --weight_decay 1e-06 --es_episodes 50 --es_improvement 0.001 --epochs 400 \n",
      "python main.py --n_embed 512 --e_embed 128 --aggs sum mean std --scalers identity amplification attenuation --n_pna 5 --hidden 512 --n_mlp_layer 3 --af silu --batch_size 32 --lr 1e-05 --weight_decay 1e-06 --es_episodes 50 --es_improvement 0 --epochs 600 \n",
      "python main.py --n_embed 512 --e_embed 256 --aggs mean std --scalers attenuation linear inverse_linear --n_pna 5 --hidden 256 --n_mlp_layer 4 --af elu --batch_size 32 --lr 0.001 --weight_decay 0.0001 --es_episodes 70 --es_improvement 0 --epochs 200 \n",
      "python main.py --n_embed 512 --e_embed 512 --aggs sum mean min max var std --scalers amplification attenuation --n_pna 2 --hidden 64 --n_mlp_layer 5 --af elu --batch_size 64 --lr 1e-05 --weight_decay 0.0001 --es_episodes 70 --es_improvement 0 --epochs 400 \n",
      "python main.py --n_embed 512 --e_embed 128 --aggs mean std --scalers identity linear inverse_linear --n_pna 5 --hidden 256 --n_mlp_layer 5 --af relu --batch_size 32 --lr 0.001 --weight_decay 1e-05 --es_episodes 50 --es_improvement 0.0001 --epochs 200 \n",
      "python main.py --n_embed 512 --e_embed 128 --aggs sum mean std --scalers amplification attenuation --n_pna 4 --hidden 256 --n_mlp_layer 4 --af tanh --batch_size 32 --lr 0.001 --weight_decay 1e-06 --es_episodes 70 --es_improvement 0.0001 --epochs 400 \n",
      "python main.py --n_embed 512 --e_embed 512 --aggs sum min max --scalers identity amplification attenuation linear inverse_linear --n_pna 4 --hidden 64 --n_mlp_layer 5 --af tanh --batch_size 32 --lr 1e-05 --weight_decay 1e-05 --es_episodes 20 --es_improvement 0.0001 --epochs 600 \n",
      "python main.py --n_embed 256 --e_embed 128 --aggs sum mean min max std --scalers identity amplification attenuation --n_pna 3 --hidden 128 --n_mlp_layer 4 --af tanh --batch_size 128 --lr 0.001 --weight_decay 1e-06 --es_episodes 70 --es_improvement 0 --epochs 200 \n",
      "python main.py --n_embed 256 --e_embed 128 --aggs sum mean min max var std --scalers amplification attenuation linear inverse_linear --n_pna 4 --hidden 128 --n_mlp_layer 4 --af silu --batch_size 32 --lr 1e-05 --weight_decay 0.0001 --es_episodes 50 --es_improvement 0 --epochs 400 \n",
      "python main.py --n_embed 256 --e_embed 128 --aggs sum mean std --scalers amplification attenuation linear inverse_linear --n_pna 3 --hidden 128 --n_mlp_layer 3 --af tanh --batch_size 128 --lr 0.0001 --weight_decay 0.0001 --es_episodes 20 --es_improvement 0.001 --epochs 600 \n",
      "python main.py --n_embed 256 --e_embed 512 --aggs sum mean min max std --scalers identity amplification attenuation linear --n_pna 2 --hidden 512 --n_mlp_layer 2 --af silu --batch_size 32 --lr 0.001 --weight_decay 1e-05 --es_episodes 70 --es_improvement 0.0001 --epochs 600 \n",
      "python main.py --n_embed 256 --e_embed 128 --aggs sum mean std --scalers identity linear --n_pna 4 --hidden 512 --n_mlp_layer 4 --af relu --batch_size 32 --lr 0.0001 --weight_decay 0.0001 --es_episodes 70 --es_improvement 0.001 --epochs 400 \n",
      "python main.py --n_embed 128 --e_embed 128 --aggs sum min max --scalers identity amplification attenuation --n_pna 3 --hidden 64 --n_mlp_layer 3 --af elu --batch_size 32 --lr 0.0001 --weight_decay 0.0001 --es_episodes 20 --es_improvement 0.0001 --epochs 400 \n",
      "python main.py --n_embed 512 --e_embed 128 --aggs mean min max std --scalers identity amplification attenuation linear inverse_linear --n_pna 2 --hidden 128 --n_mlp_layer 5 --af tanh --batch_size 64 --lr 0.0001 --weight_decay 0.0001 --es_episodes 50 --es_improvement 0 --epochs 600 \n",
      "python main.py --n_embed 512 --e_embed 512 --aggs mean std --scalers amplification attenuation --n_pna 4 --hidden 128 --n_mlp_layer 2 --af relu --batch_size 64 --lr 1e-05 --weight_decay 1e-06 --es_episodes 50 --es_improvement 0 --epochs 400 \n",
      "python main.py --n_embed 256 --e_embed 512 --aggs mean min max std --scalers identity amplification attenuation linear --n_pna 4 --hidden 128 --n_mlp_layer 2 --af relu --batch_size 128 --lr 1e-05 --weight_decay 0.0001 --es_episodes 50 --es_improvement 0.0001 --epochs 400 \n",
      "python main.py --n_embed 256 --e_embed 256 --aggs sum mean std --scalers identity amplification attenuation --n_pna 3 --hidden 64 --n_mlp_layer 5 --af tanh --batch_size 128 --lr 0.0001 --weight_decay 1e-05 --es_episodes 70 --es_improvement 0.001 --epochs 400 \n",
      "python main.py --n_embed 256 --e_embed 128 --aggs sum mean min max var std --scalers identity linear inverse_linear --n_pna 4 --hidden 512 --n_mlp_layer 5 --af relu --batch_size 128 --lr 0.001 --weight_decay 1e-05 --es_episodes 20 --es_improvement 0.0001 --epochs 600 \n",
      "python main.py --n_embed 128 --e_embed 256 --aggs sum mean min max var std --scalers attenuation linear inverse_linear --n_pna 5 --hidden 256 --n_mlp_layer 5 --af tanh --batch_size 64 --lr 0.001 --weight_decay 0.0001 --es_episodes 50 --es_improvement 0.0001 --epochs 400 \n",
      "python main.py --n_embed 512 --e_embed 256 --aggs mean min max std --scalers attenuation linear inverse_linear --n_pna 3 --hidden 512 --n_mlp_layer 5 --af elu --batch_size 128 --lr 0.0001 --weight_decay 1e-06 --es_episodes 70 --es_improvement 0 --epochs 200 \n",
      "python main.py --n_embed 128 --e_embed 256 --aggs mean std --scalers identity amplification attenuation linear inverse_linear --n_pna 3 --hidden 256 --n_mlp_layer 2 --af elu --batch_size 64 --lr 0.001 --weight_decay 1e-06 --es_episodes 50 --es_improvement 0.001 --epochs 400 \n",
      "python main.py --n_embed 256 --e_embed 128 --aggs sum mean min max var std --scalers identity amplification attenuation --n_pna 4 --hidden 64 --n_mlp_layer 3 --af tanh --batch_size 32 --lr 0.001 --weight_decay 1e-05 --es_episodes 50 --es_improvement 0 --epochs 400 \n",
      "python main.py --n_embed 128 --e_embed 256 --aggs sum mean std --scalers identity amplification attenuation linear --n_pna 5 --hidden 512 --n_mlp_layer 2 --af elu --batch_size 128 --lr 1e-05 --weight_decay 1e-06 --es_episodes 20 --es_improvement 0.001 --epochs 200 \n",
      "python main.py --n_embed 128 --e_embed 512 --aggs sum min max --scalers identity linear --n_pna 3 --hidden 64 --n_mlp_layer 3 --af elu --batch_size 64 --lr 1e-05 --weight_decay 0.0001 --es_episodes 20 --es_improvement 0 --epochs 400 \n",
      "python main.py --n_embed 512 --e_embed 512 --aggs sum mean min max var std --scalers amplification attenuation linear inverse_linear --n_pna 3 --hidden 64 --n_mlp_layer 2 --af tanh --batch_size 64 --lr 0.0001 --weight_decay 1e-05 --es_episodes 70 --es_improvement 0.0001 --epochs 200 \n",
      "python main.py --n_embed 128 --e_embed 512 --aggs sum mean min max var std --scalers identity linear inverse_linear --n_pna 3 --hidden 64 --n_mlp_layer 2 --af elu --batch_size 32 --lr 0.001 --weight_decay 0.0001 --es_episodes 70 --es_improvement 0.001 --epochs 200 \n",
      "python main.py --n_embed 256 --e_embed 128 --aggs sum mean std --scalers amplification attenuation linear inverse_linear --n_pna 3 --hidden 128 --n_mlp_layer 2 --af tanh --batch_size 32 --lr 1e-05 --weight_decay 1e-05 --es_episodes 50 --es_improvement 0.0001 --epochs 600 \n",
      "python main.py --n_embed 128 --e_embed 256 --aggs sum mean min max std --scalers identity linear --n_pna 5 --hidden 128 --n_mlp_layer 5 --af relu --batch_size 128 --lr 0.0001 --weight_decay 1e-06 --es_episodes 20 --es_improvement 0.0001 --epochs 200 \n",
      "python main.py --n_embed 128 --e_embed 512 --aggs sum mean min max std --scalers attenuation linear inverse_linear --n_pna 5 --hidden 512 --n_mlp_layer 2 --af silu --batch_size 128 --lr 1e-05 --weight_decay 0.0001 --es_episodes 50 --es_improvement 0.001 --epochs 600 \n",
      "python main.py --n_embed 512 --e_embed 256 --aggs sum mean std --scalers identity amplification attenuation linear --n_pna 5 --hidden 64 --n_mlp_layer 3 --af relu --batch_size 32 --lr 1e-05 --weight_decay 1e-05 --es_episodes 20 --es_improvement 0.001 --epochs 200 \n",
      "python main.py --n_embed 128 --e_embed 512 --aggs sum min max --scalers identity linear --n_pna 2 --hidden 128 --n_mlp_layer 3 --af relu --batch_size 64 --lr 0.0001 --weight_decay 1e-05 --es_episodes 20 --es_improvement 0 --epochs 400 \n",
      "python main.py --n_embed 512 --e_embed 128 --aggs mean min max std --scalers amplification attenuation --n_pna 5 --hidden 256 --n_mlp_layer 3 --af relu --batch_size 64 --lr 0.0001 --weight_decay 1e-05 --es_episodes 70 --es_improvement 0.001 --epochs 600 \n"
     ]
    }
   ],
   "source": [
    "import numpy as np\n",
    "from scipy.stats import qmc\n",
    "np.random.seed(1234)\n",
    "# Define the hyperparameter grid\n",
    "args = {\n",
    "    'n_embed': [128, 256, 512],\n",
    "    'e_embed': [128, 256, 512],\n",
    "    'aggs': ['sum mean min max var std', 'sum min max', 'sum mean std', \n",
    "             'mean min max std', 'mean std', 'sum mean min max std'],\n",
    "    'scalers': ['identity amplification attenuation linear inverse_linear',\n",
    "                'identity amplification attenuation',\n",
    "                'attenuation linear inverse_linear',\n",
    "                'amplification attenuation',\n",
    "                'identity linear inverse_linear',\n",
    "                'amplification attenuation linear inverse_linear',\n",
    "                'identity amplification attenuation linear',\n",
    "                'identity linear'],\n",
    "    'n_pna': [2, 3, 4, 5],\n",
    "    'hidden': [64, 128, 256, 512],\n",
    "    'n_mlp_layer': [2, 3, 4, 5],\n",
    "    'af': ['relu', 'elu', 'silu', 'tanh'],\n",
    "    'batch_size': [32, 64, 128],\n",
    "    'lr': [0.001, 0.0001, 0.00001],\n",
    "    'weight_decay': [1e-4, 1e-5, 1e-6],\n",
    "    'es_episodes': [20, 50, 70],\n",
    "    'es_improvement': [0, 1e-3, 1e-4],\n",
    "    'epochs': [200, 400, 600],\n",
    "}\n",
    "\n",
    "# Number of samples\n",
    "n_samples = 50  \n",
    "\n",
    "# Convert categorical hyperparameters to numerical indices\n",
    "param_keys = list(args.keys())\n",
    "param_sizes = [len(args[key]) for key in param_keys]\n",
    "\n",
    "# Generate LHS samples\n",
    "sampler = qmc.LatinHypercube(d=len(param_keys), seed=1234)\n",
    "lhs_samples = sampler.random(n=n_samples)\n",
    "\n",
    "# Scale samples to match parameter indices\n",
    "config = {}\n",
    "for i in range(n_samples):\n",
    "    model_config = 'python main.py '\n",
    "    config[i] = []\n",
    "    \n",
    "    for j, key in enumerate(param_keys):\n",
    "        index = int(lhs_samples[i, j] * param_sizes[j])  # Scale to discrete indices\n",
    "        elem = args[key][index]  \n",
    "        model_config += f'--{key} {elem} '\n",
    "        config[i].append(elem)\n",
    "    \n",
    "    print(model_config)"
   ]
  },
  {
   "cell_type": "code",
   "execution_count": 19,
   "metadata": {},
   "outputs": [],
   "source": [
    "import pandas as pd\n",
    "\n",
    "df = pd.DataFrame(config)"
   ]
  },
  {
   "cell_type": "code",
   "execution_count": 20,
   "metadata": {},
   "outputs": [],
   "source": [
    "df = df.T"
   ]
  },
  {
   "cell_type": "code",
   "execution_count": 21,
   "metadata": {},
   "outputs": [],
   "source": [
    "df.to_csv('config.csv', index=False)"
   ]
  },
  {
   "cell_type": "code",
   "execution_count": null,
   "metadata": {},
   "outputs": [],
   "source": []
  }
 ],
 "metadata": {
  "kernelspec": {
   "display_name": "base",
   "language": "python",
   "name": "python3"
  },
  "language_info": {
   "codemirror_mode": {
    "name": "ipython",
    "version": 3
   },
   "file_extension": ".py",
   "mimetype": "text/x-python",
   "name": "python",
   "nbconvert_exporter": "python",
   "pygments_lexer": "ipython3",
   "version": "3.10.10"
  }
 },
 "nbformat": 4,
 "nbformat_minor": 2
}
