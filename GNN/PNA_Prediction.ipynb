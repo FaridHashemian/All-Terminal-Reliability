{
 "cells": [
  {
   "cell_type": "code",
   "execution_count": 15,
   "metadata": {
    "id": "GeSGzGUbhbwa"
   },
   "outputs": [],
   "source": [
    "import numpy as np\n",
    "import torch\n",
    "from torch_geometric.utils.convert import from_networkx\n",
    "from torch_geometric.data import Data, Dataset\n",
    "from torch_geometric.loader import DataLoader\n",
    "import math\n",
    "import networkx as nx\n",
    "import pandas as pd\n",
    "import ast\n",
    "import torch\n",
    "import torch_geometric\n",
    "import os\n",
    "from tqdm import tqdm\n",
    "import torch.nn.functional as F\n",
    "from torch.nn import Embedding, Linear, ModuleList, ReLU, Sequential,Dropout, Sigmoid\n",
    "from torch_geometric.nn import BatchNorm, PNAConv, global_add_pool\n",
    "from torch_geometric.utils import degree\n",
    "import shutil\n",
    "import random\n",
    "from PNA_model import PNA_Net"
   ]
  },
  {
   "cell_type": "markdown",
   "metadata": {
    "id": "-vBdtpzIHfbh"
   },
   "source": [
    "#Load Data for GNN"
   ]
  },
  {
   "cell_type": "code",
   "execution_count": 16,
   "metadata": {
    "id": "KarL6qwQhu32"
   },
   "outputs": [],
   "source": [
    "import argparse\n",
    "from graph_dataset import GraphDataset, split_data, EarlyStopping\n",
    "\n",
    "def get_args():\n",
    "    parser = argparse.ArgumentParser()\n",
    "    parser.add_argument(\"--seed\", required=False, default=1871, type=int, help=\"seed number\")\n",
    "    parser.add_argument(\"--path\", required=False, default='/Downloads/All-Terminal-Reliability/GNN/data/', type=str, help=\"path to the data folder\")\n",
    "    parser.add_argument(\"--train_portion\", required=False, default=0.75, type=float, help=\"train proportion\")\n",
    "    parser.add_argument(\"--valid_portion\", required=False, default=0.15, type=float, help=\"validation proportion\")\n",
    "    parser.add_argument(\"--batch_size\", default=64, type = int, help=\"batch size\")\n",
    "    parser.add_argument(\"--lr\", default=0.001, type=float, help=\"learning rate\")\n",
    "    parser.add_argument(\"--weight_decay\", default=0.1, type=float, help=\"weight decay for optimizer\")\n",
    "    parser.add_argument(\"--es_episodes\", default=70, type = int, help=\"number of episodes that early stopping should wait\")\n",
    "    parser.add_argument(\"--es_improvement\", default=0, type=float, help=\"the amount of improvement that each episode of early stopping will look for\")\n",
    "    parser.add_argument(\"--epochs\", default=300, type = int, help=\"number of epochs\")\n",
    "    \n",
    "\n",
    "    #parser.add_argument(\"--u_bound\", default=0.6, type=float, help=\"edge addition upper bound\")\n",
    "    #parser.add_argument(\"--path\", default='reliability_tdzdd/', type=str, help=\"path to the folder\")\n",
    "    ################\n",
    "    parser.add_argument(\"--f\", required=False)\n",
    "    args = parser.parse_args()\n",
    "    #args = parser.parse_args()\n",
    "    #################\n",
    "    return args"
   ]
  },
  {
   "cell_type": "code",
   "execution_count": 17,
   "metadata": {},
   "outputs": [],
   "source": [
    "args = get_args()"
   ]
  },
  {
   "cell_type": "markdown",
   "metadata": {
    "id": "Wm7IzFIlHsK0"
   },
   "source": [
    "#Train GNN"
   ]
  },
  {
   "cell_type": "code",
   "execution_count": 22,
   "metadata": {},
   "outputs": [],
   "source": [
    "def train(args):\n",
    "    \n",
    "    train_losses = []\n",
    "    validation_losses = []\n",
    "\n",
    "    ### Reading the dataset and convert it to dataloader ready for GNN\n",
    "    train, valid, test = split_data(args)\n",
    "    train_loader = DataLoader(train, batch_size=args.batch_size, shuffle=True)\n",
    "    test_loader = DataLoader(test, batch_size=args.batch_size, shuffle=True)\n",
    "    valid_loader = DataLoader(valid, batch_size=args.batch_size, shuffle=True)\n",
    "\n",
    "    model = PNA_Net(train)\n",
    "\n",
    "    optimizer = torch.optim.Adam(model.parameters(), lr=args.lr, weight_decay= args.weight_decay)\n",
    "    criterion = torch.nn.MSELoss(reduction = 'sum')\n",
    "    scheduler = torch.optim.lr_scheduler.CosineAnnealingLR(optimizer,\n",
    "                                                       eta_min = 0.001,\n",
    "                                                       T_max = 1000)\n",
    "\n",
    "    device = torch.device(\"cuda\" if torch.cuda.is_available() else \"cpu\")\n",
    "    model = model.to(device)\n",
    "    es = EarlyStopping(args.es_episodes, args.es_improvement)\n",
    "\n",
    "    def train():\n",
    "        model.train()\n",
    "\n",
    "        total_loss = 0\n",
    "        for data in train_loader:\n",
    "            data = data.to(device)\n",
    "            optimizer.zero_grad()\n",
    "            out, embed = model(data.x.to(device),\n",
    "                        data.edge_index.type(torch.LongTensor).to(device),\n",
    "                        data.edge_attr.type(torch.LongTensor).to(device),\n",
    "                        data.batch.squeeze().to(device))\n",
    "            loss = criterion(out.squeeze().to(device), data.y.to(device))\n",
    "            loss.backward()\n",
    "            optimizer.step()\n",
    "            total_loss += loss.item()\n",
    "        return total_loss/len(train_loader.sampler)\n",
    "\n",
    "\n",
    "    @torch.no_grad()\n",
    "    def test(loader):\n",
    "        model.eval()\n",
    "\n",
    "        total_error = 0\n",
    "        for data in loader:\n",
    "            data = data.to(device)\n",
    "            out, embed = model(data.x.to(device),\n",
    "                        data.edge_index.type(torch.LongTensor).to(device),\n",
    "                        data.edge_attr.type(torch.LongTensor).to(device),\n",
    "                        data.batch.squeeze().to(device))\n",
    "            loss_test = criterion(out.squeeze().to(device), data.y.to(device))\n",
    "            total_error += loss_test.item()\n",
    "        return loss_test, total_error/len(loader.sampler)\n",
    "\n",
    "    train_losses = []\n",
    "    test_losses = []\n",
    "    for epoch in range(1, args.epochs+1):\n",
    "        loss = train()\n",
    "        test_epoch_mse ,test_mse = test(valid_loader)\n",
    "        train_losses.append(loss)\n",
    "        test_losses.append(test_mse)\n",
    "        scheduler.step()\n",
    "        if es(model, test_epoch_mse):\n",
    "            print(f'Epoch: {epoch} \\t Train_Loss: {loss:.4f} \\t Test_Loss: {test_mse:.4f} \\t EStop:[{es.status}]')\n",
    "            break\n",
    "        else:\n",
    "            print(f'Epoch: {epoch} \\t Train_Loss: {loss:.4f} \\t Test_Loss: {test_mse:.4f} \\t EStop:[{es.status}]')"
   ]
  },
  {
   "cell_type": "code",
   "execution_count": 23,
   "metadata": {},
   "outputs": [
    {
     "name": "stderr",
     "output_type": "stream",
     "text": [
      "Processing...\n",
      "100%|██████████| 2000/2000 [00:01<00:00, 1173.33it/s]\n",
      "Done!\n",
      "Processing...\n",
      "100%|██████████| 2000/2000 [00:01<00:00, 1092.82it/s]\n",
      "Done!\n",
      "/Users/farid/Downloads/All-Terminal-Reliability/GNN/graph_dataset.py:190: FutureWarning: You are using `torch.load` with `weights_only=False` (the current default value), which uses the default pickle module implicitly. It is possible to construct malicious pickle data which will execute arbitrary code during unpickling (See https://github.com/pytorch/pytorch/blob/main/SECURITY.md#untrusted-models for more details). In a future release, the default value for `weights_only` will be flipped to `True`. This limits the functions that could be executed during unpickling. Arbitrary objects will no longer be allowed to be loaded via this mode unless they are explicitly allowlisted by the user via `torch.serialization.add_safe_globals`. We recommend you start setting `weights_only=True` for any use case where you don't have full control of the loaded file. Please open an issue on GitHub for any issues related to this experimental feature.\n",
      "  data = torch.load(os.path.join(self.processed_dir,\n"
     ]
    },
    {
     "name": "stdout",
     "output_type": "stream",
     "text": [
      "Epoch: 1 \t Train_Loss: 0.0083 \t Test_Loss: 0.0241 \t EStop:[0/70]\n"
     ]
    }
   ],
   "source": [
    "if __name__ == \"__main__\":\n",
    "    train(args)"
   ]
  },
  {
   "cell_type": "code",
   "execution_count": 128,
   "metadata": {
    "colab": {
     "base_uri": "https://localhost:8080/"
    },
    "executionInfo": {
     "elapsed": 8441860,
     "status": "ok",
     "timestamp": 1704918447968,
     "user": {
      "displayName": "Farid Hashemian",
      "userId": "07696851809876459273"
     },
     "user_tz": 360
    },
    "id": "UBTWgYIpnCzn",
    "outputId": "2f18d3a0-3caa-4a13-95a3-576362dd08b3"
   },
   "outputs": [
    {
     "name": "stderr",
     "output_type": "stream",
     "text": [
      "/Users/farid/Downloads/All-Terminal-Reliability/GNN/graph_dataset.py:186: FutureWarning: You are using `torch.load` with `weights_only=False` (the current default value), which uses the default pickle module implicitly. It is possible to construct malicious pickle data which will execute arbitrary code during unpickling (See https://github.com/pytorch/pytorch/blob/main/SECURITY.md#untrusted-models for more details). In a future release, the default value for `weights_only` will be flipped to `True`. This limits the functions that could be executed during unpickling. Arbitrary objects will no longer be allowed to be loaded via this mode unless they are explicitly allowlisted by the user via `torch.serialization.add_safe_globals`. We recommend you start setting `weights_only=True` for any use case where you don't have full control of the loaded file. Please open an issue on GitHub for any issues related to this experimental feature.\n",
      "  data = torch.load(os.path.join(self.processed_dir,\n"
     ]
    },
    {
     "name": "stdout",
     "output_type": "stream",
     "text": [
      "Epoch: 1 \t Train_Loss: 0.0076 \t Test_Loss: 0.0050 \t EStop:[0/70]\n"
     ]
    },
    {
     "ename": "KeyboardInterrupt",
     "evalue": "",
     "output_type": "error",
     "traceback": [
      "\u001b[0;31m---------------------------------------------------------------------------\u001b[0m",
      "\u001b[0;31mKeyboardInterrupt\u001b[0m                         Traceback (most recent call last)",
      "Cell \u001b[0;32mIn[128], line 37\u001b[0m\n\u001b[1;32m     35\u001b[0m test_losses \u001b[38;5;241m=\u001b[39m []\n\u001b[1;32m     36\u001b[0m \u001b[38;5;28;01mfor\u001b[39;00m epoch \u001b[38;5;129;01min\u001b[39;00m \u001b[38;5;28mrange\u001b[39m(\u001b[38;5;241m1\u001b[39m, \u001b[38;5;241m351\u001b[39m):\n\u001b[0;32m---> 37\u001b[0m     loss \u001b[38;5;241m=\u001b[39m \u001b[43mtrain\u001b[49m\u001b[43m(\u001b[49m\u001b[43m)\u001b[49m\n\u001b[1;32m     38\u001b[0m     test_epoch_mse ,test_mse \u001b[38;5;241m=\u001b[39m test(valid_loader)\n\u001b[1;32m     39\u001b[0m     train_losses\u001b[38;5;241m.\u001b[39mappend(loss)\n",
      "Cell \u001b[0;32mIn[128], line 13\u001b[0m, in \u001b[0;36mtrain\u001b[0;34m()\u001b[0m\n\u001b[1;32m      8\u001b[0m out, embed \u001b[38;5;241m=\u001b[39m model(data\u001b[38;5;241m.\u001b[39mx\u001b[38;5;241m.\u001b[39mto(device),\n\u001b[1;32m      9\u001b[0m             data\u001b[38;5;241m.\u001b[39medge_index\u001b[38;5;241m.\u001b[39mtype(torch\u001b[38;5;241m.\u001b[39mLongTensor)\u001b[38;5;241m.\u001b[39mto(device),\n\u001b[1;32m     10\u001b[0m             data\u001b[38;5;241m.\u001b[39medge_attr\u001b[38;5;241m.\u001b[39mtype(torch\u001b[38;5;241m.\u001b[39mLongTensor)\u001b[38;5;241m.\u001b[39mto(device),\n\u001b[1;32m     11\u001b[0m             data\u001b[38;5;241m.\u001b[39mbatch\u001b[38;5;241m.\u001b[39msqueeze()\u001b[38;5;241m.\u001b[39mto(device))\n\u001b[1;32m     12\u001b[0m loss \u001b[38;5;241m=\u001b[39m criterion(out\u001b[38;5;241m.\u001b[39msqueeze()\u001b[38;5;241m.\u001b[39mto(device), data\u001b[38;5;241m.\u001b[39my\u001b[38;5;241m.\u001b[39mto(device))\n\u001b[0;32m---> 13\u001b[0m \u001b[43mloss\u001b[49m\u001b[38;5;241;43m.\u001b[39;49m\u001b[43mbackward\u001b[49m\u001b[43m(\u001b[49m\u001b[43m)\u001b[49m\n\u001b[1;32m     14\u001b[0m optimizer\u001b[38;5;241m.\u001b[39mstep()\n\u001b[1;32m     15\u001b[0m total_loss \u001b[38;5;241m+\u001b[39m\u001b[38;5;241m=\u001b[39m loss\u001b[38;5;241m.\u001b[39mitem()\n",
      "File \u001b[0;32m~/miniconda3/envs/python3.10/lib/python3.10/site-packages/torch/_tensor.py:581\u001b[0m, in \u001b[0;36mTensor.backward\u001b[0;34m(self, gradient, retain_graph, create_graph, inputs)\u001b[0m\n\u001b[1;32m    571\u001b[0m \u001b[38;5;28;01mif\u001b[39;00m has_torch_function_unary(\u001b[38;5;28mself\u001b[39m):\n\u001b[1;32m    572\u001b[0m     \u001b[38;5;28;01mreturn\u001b[39;00m handle_torch_function(\n\u001b[1;32m    573\u001b[0m         Tensor\u001b[38;5;241m.\u001b[39mbackward,\n\u001b[1;32m    574\u001b[0m         (\u001b[38;5;28mself\u001b[39m,),\n\u001b[0;32m   (...)\u001b[0m\n\u001b[1;32m    579\u001b[0m         inputs\u001b[38;5;241m=\u001b[39minputs,\n\u001b[1;32m    580\u001b[0m     )\n\u001b[0;32m--> 581\u001b[0m \u001b[43mtorch\u001b[49m\u001b[38;5;241;43m.\u001b[39;49m\u001b[43mautograd\u001b[49m\u001b[38;5;241;43m.\u001b[39;49m\u001b[43mbackward\u001b[49m\u001b[43m(\u001b[49m\n\u001b[1;32m    582\u001b[0m \u001b[43m    \u001b[49m\u001b[38;5;28;43mself\u001b[39;49m\u001b[43m,\u001b[49m\u001b[43m \u001b[49m\u001b[43mgradient\u001b[49m\u001b[43m,\u001b[49m\u001b[43m \u001b[49m\u001b[43mretain_graph\u001b[49m\u001b[43m,\u001b[49m\u001b[43m \u001b[49m\u001b[43mcreate_graph\u001b[49m\u001b[43m,\u001b[49m\u001b[43m \u001b[49m\u001b[43minputs\u001b[49m\u001b[38;5;241;43m=\u001b[39;49m\u001b[43minputs\u001b[49m\n\u001b[1;32m    583\u001b[0m \u001b[43m\u001b[49m\u001b[43m)\u001b[49m\n",
      "File \u001b[0;32m~/miniconda3/envs/python3.10/lib/python3.10/site-packages/torch/autograd/__init__.py:347\u001b[0m, in \u001b[0;36mbackward\u001b[0;34m(tensors, grad_tensors, retain_graph, create_graph, grad_variables, inputs)\u001b[0m\n\u001b[1;32m    342\u001b[0m     retain_graph \u001b[38;5;241m=\u001b[39m create_graph\n\u001b[1;32m    344\u001b[0m \u001b[38;5;66;03m# The reason we repeat the same comment below is that\u001b[39;00m\n\u001b[1;32m    345\u001b[0m \u001b[38;5;66;03m# some Python versions print out the first line of a multi-line function\u001b[39;00m\n\u001b[1;32m    346\u001b[0m \u001b[38;5;66;03m# calls in the traceback and some print out the last line\u001b[39;00m\n\u001b[0;32m--> 347\u001b[0m \u001b[43m_engine_run_backward\u001b[49m\u001b[43m(\u001b[49m\n\u001b[1;32m    348\u001b[0m \u001b[43m    \u001b[49m\u001b[43mtensors\u001b[49m\u001b[43m,\u001b[49m\n\u001b[1;32m    349\u001b[0m \u001b[43m    \u001b[49m\u001b[43mgrad_tensors_\u001b[49m\u001b[43m,\u001b[49m\n\u001b[1;32m    350\u001b[0m \u001b[43m    \u001b[49m\u001b[43mretain_graph\u001b[49m\u001b[43m,\u001b[49m\n\u001b[1;32m    351\u001b[0m \u001b[43m    \u001b[49m\u001b[43mcreate_graph\u001b[49m\u001b[43m,\u001b[49m\n\u001b[1;32m    352\u001b[0m \u001b[43m    \u001b[49m\u001b[43minputs\u001b[49m\u001b[43m,\u001b[49m\n\u001b[1;32m    353\u001b[0m \u001b[43m    \u001b[49m\u001b[43mallow_unreachable\u001b[49m\u001b[38;5;241;43m=\u001b[39;49m\u001b[38;5;28;43;01mTrue\u001b[39;49;00m\u001b[43m,\u001b[49m\n\u001b[1;32m    354\u001b[0m \u001b[43m    \u001b[49m\u001b[43maccumulate_grad\u001b[49m\u001b[38;5;241;43m=\u001b[39;49m\u001b[38;5;28;43;01mTrue\u001b[39;49;00m\u001b[43m,\u001b[49m\n\u001b[1;32m    355\u001b[0m \u001b[43m\u001b[49m\u001b[43m)\u001b[49m\n",
      "File \u001b[0;32m~/miniconda3/envs/python3.10/lib/python3.10/site-packages/torch/autograd/graph.py:825\u001b[0m, in \u001b[0;36m_engine_run_backward\u001b[0;34m(t_outputs, *args, **kwargs)\u001b[0m\n\u001b[1;32m    823\u001b[0m     unregister_hooks \u001b[38;5;241m=\u001b[39m _register_logging_hooks_on_whole_graph(t_outputs)\n\u001b[1;32m    824\u001b[0m \u001b[38;5;28;01mtry\u001b[39;00m:\n\u001b[0;32m--> 825\u001b[0m     \u001b[38;5;28;01mreturn\u001b[39;00m \u001b[43mVariable\u001b[49m\u001b[38;5;241;43m.\u001b[39;49m\u001b[43m_execution_engine\u001b[49m\u001b[38;5;241;43m.\u001b[39;49m\u001b[43mrun_backward\u001b[49m\u001b[43m(\u001b[49m\u001b[43m  \u001b[49m\u001b[38;5;66;43;03m# Calls into the C++ engine to run the backward pass\u001b[39;49;00m\n\u001b[1;32m    826\u001b[0m \u001b[43m        \u001b[49m\u001b[43mt_outputs\u001b[49m\u001b[43m,\u001b[49m\u001b[43m \u001b[49m\u001b[38;5;241;43m*\u001b[39;49m\u001b[43margs\u001b[49m\u001b[43m,\u001b[49m\u001b[43m \u001b[49m\u001b[38;5;241;43m*\u001b[39;49m\u001b[38;5;241;43m*\u001b[39;49m\u001b[43mkwargs\u001b[49m\n\u001b[1;32m    827\u001b[0m \u001b[43m    \u001b[49m\u001b[43m)\u001b[49m  \u001b[38;5;66;03m# Calls into the C++ engine to run the backward pass\u001b[39;00m\n\u001b[1;32m    828\u001b[0m \u001b[38;5;28;01mfinally\u001b[39;00m:\n\u001b[1;32m    829\u001b[0m     \u001b[38;5;28;01mif\u001b[39;00m attach_logging_hooks:\n",
      "\u001b[0;31mKeyboardInterrupt\u001b[0m: "
     ]
    }
   ],
   "source": [
    "def train():\n",
    "    model.train()\n",
    "\n",
    "    total_loss = 0\n",
    "    for data in train_loader:\n",
    "        data = data.to(device)\n",
    "        optimizer.zero_grad()\n",
    "        out, embed = model(data.x.to(device),\n",
    "                    data.edge_index.type(torch.LongTensor).to(device),\n",
    "                    data.edge_attr.type(torch.LongTensor).to(device),\n",
    "                    data.batch.squeeze().to(device))\n",
    "        loss = criterion(out.squeeze().to(device), data.y.to(device))\n",
    "        loss.backward()\n",
    "        optimizer.step()\n",
    "        total_loss += loss.item()\n",
    "    return total_loss/len(train_loader.sampler)\n",
    "\n",
    "\n",
    "@torch.no_grad()\n",
    "def test(loader):\n",
    "    model.eval()\n",
    "\n",
    "    total_error = 0\n",
    "    for data in loader:\n",
    "        data = data.to(device)\n",
    "        out, embed = model(data.x.to(device),\n",
    "                    data.edge_index.type(torch.LongTensor).to(device),\n",
    "                    data.edge_attr.type(torch.LongTensor).to(device),\n",
    "                    data.batch.squeeze().to(device))\n",
    "        loss_test = criterion(out.squeeze().to(device), data.y.to(device))\n",
    "        total_error += loss_test.item()\n",
    "    return loss_test, total_error/len(loader.sampler)\n",
    "\n",
    "train_losses = []\n",
    "test_losses = []\n",
    "for epoch in range(1, 351):\n",
    "    loss = train()\n",
    "    test_epoch_mse ,test_mse = test(valid_loader)\n",
    "    train_losses.append(loss)\n",
    "    test_losses.append(test_mse)\n",
    "    scheduler.step()\n",
    "    if es(model, test_epoch_mse):\n",
    "        print(f'Epoch: {epoch} \\t Train_Loss: {loss:.4f} \\t Test_Loss: {test_mse:.4f} \\t EStop:[{es.status}]')\n",
    "        break\n",
    "    else:\n",
    "        print(f'Epoch: {epoch} \\t Train_Loss: {loss:.4f} \\t Test_Loss: {test_mse:.4f} \\t EStop:[{es.status}]')"
   ]
  },
  {
   "cell_type": "markdown",
   "metadata": {
    "id": "UhUAZLXJHy-K"
   },
   "source": [
    "#Model Performance"
   ]
  },
  {
   "cell_type": "code",
   "execution_count": null,
   "metadata": {
    "id": "rXz0JDaUn0qU"
   },
   "outputs": [],
   "source": [
    "ssq = torch.nn.MSELoss(reduction = 'sum')"
   ]
  },
  {
   "cell_type": "code",
   "execution_count": null,
   "metadata": {
    "colab": {
     "base_uri": "https://localhost:8080/"
    },
    "executionInfo": {
     "elapsed": 13575,
     "status": "ok",
     "timestamp": 1704918570699,
     "user": {
      "displayName": "Farid Hashemian",
      "userId": "07696851809876459273"
     },
     "user_tz": 360
    },
    "id": "3Yqi67lin0nh",
    "outputId": "82f851d0-a5a9-4f52-f7eb-9134a6736fdf"
   },
   "outputs": [
    {
     "name": "stdout",
     "output_type": "stream",
     "text": [
      "Loss: 0.000016 \t RMSE: 0.004001\n"
     ]
    }
   ],
   "source": [
    "running_loss_train = 0.0\n",
    "for element in train_loader:\n",
    "    element.to(device)\n",
    "    with torch.no_grad():\n",
    "        out, embed = model(element.x.cuda(),\n",
    "                    element.edge_index.type(torch.LongTensor).cuda(),\n",
    "               element.edge_attr.type(torch.LongTensor).cuda(),element.batch.squeeze().cuda())\n",
    "        loss = ssq(out.squeeze(), element.y)\n",
    "        running_loss_train += loss.item()\n",
    "    mse = running_loss_train/len(train_loader.sampler)\n",
    "print(\"Loss: %.6f \\t RMSE: %.6f\"%(mse,mse**0.5))"
   ]
  },
  {
   "cell_type": "code",
   "execution_count": null,
   "metadata": {
    "colab": {
     "base_uri": "https://localhost:8080/"
    },
    "executionInfo": {
     "elapsed": 2823,
     "status": "ok",
     "timestamp": 1704918573509,
     "user": {
      "displayName": "Farid Hashemian",
      "userId": "07696851809876459273"
     },
     "user_tz": 360
    },
    "id": "e9xaoiCIyWE-",
    "outputId": "9cfa713a-8e0f-4931-90e8-8eac7bb25d18"
   },
   "outputs": [
    {
     "name": "stdout",
     "output_type": "stream",
     "text": [
      "Loss: 0.000170 \t RMSE: 0.013027\n"
     ]
    }
   ],
   "source": [
    "running_loss_valid = 0.0\n",
    "for element in valid_loader:\n",
    "    model.eval()\n",
    "    element.to(device)\n",
    "    with torch.no_grad():\n",
    "        out, embed = model(element.x.cuda(),\n",
    "                    element.edge_index.type(torch.LongTensor).cuda(),\n",
    "               element.edge_attr.type(torch.LongTensor).cuda(),element.batch.squeeze().cuda())\n",
    "        loss = ssq(out.squeeze(), element.y)\n",
    "        running_loss_valid += loss.item()\n",
    "    mse = running_loss_valid/len(valid_loader.sampler)\n",
    "print(\"Loss: %.6f \\t RMSE: %.6f\"%(mse,mse**0.5))"
   ]
  },
  {
   "cell_type": "code",
   "execution_count": null,
   "metadata": {
    "colab": {
     "base_uri": "https://localhost:8080/"
    },
    "executionInfo": {
     "elapsed": 110097,
     "status": "ok",
     "timestamp": 1704918683594,
     "user": {
      "displayName": "Farid Hashemian",
      "userId": "07696851809876459273"
     },
     "user_tz": 360
    },
    "id": "_o5wg1u2n0gD",
    "outputId": "4202e4a0-41b0-47e4-a203-4e47407eac41"
   },
   "outputs": [
    {
     "name": "stdout",
     "output_type": "stream",
     "text": [
      "Loss: 0.000130 \t RMSE: 0.011396\n"
     ]
    }
   ],
   "source": [
    "running_loss_test = 0.0\n",
    "for element in test_loader:\n",
    "    model.eval()\n",
    "    element.to(device)\n",
    "    with torch.no_grad():\n",
    "        out, embed = model(element.x.cuda(),\n",
    "                    element.edge_index.type(torch.LongTensor).cuda(),\n",
    "               element.edge_attr.type(torch.LongTensor).cuda(),element.batch.squeeze().cuda())\n",
    "        loss = ssq(out.squeeze(), element.y)\n",
    "        running_loss_test += loss.item()\n",
    "    mse = running_loss_test/len(test_loader.sampler)\n",
    "print(\"Loss: %.6f \\t RMSE: %.6f\"%(mse,mse**0.5))"
   ]
  },
  {
   "cell_type": "code",
   "execution_count": null,
   "metadata": {
    "id": "uL8h37h1jBgy"
   },
   "outputs": [],
   "source": [
    "#df_loss = pd.read_csv('losses_sigmoid_2023-12-21.csv')"
   ]
  },
  {
   "cell_type": "code",
   "execution_count": null,
   "metadata": {
    "id": "I1oKoblcjNyS"
   },
   "outputs": [],
   "source": [
    "#df_loss.shape"
   ]
  },
  {
   "cell_type": "code",
   "execution_count": null,
   "metadata": {
    "colab": {
     "base_uri": "https://localhost:8080/",
     "height": 490
    },
    "executionInfo": {
     "elapsed": 354,
     "status": "ok",
     "timestamp": 1704919235721,
     "user": {
      "displayName": "Farid Hashemian",
      "userId": "07696851809876459273"
     },
     "user_tz": 360
    },
    "id": "bEno7PEfXaLa",
    "outputId": "51ef7115-d930-418c-f4fc-1814e4d41197"
   },
   "outputs": [
    {
     "data": {
      "text/plain": [
       "<Axes: title={'center': 'Losses of Train and Validation Sets'}, xlabel='Epochs', ylabel='Loss'>"
      ]
     },
     "execution_count": 59,
     "metadata": {},
     "output_type": "execute_result"
    },
    {
     "data": {
      "image/png": "[encoded data removed]",
      "text/plain": [
       "<Figure size 640x480 with 1 Axes>"
      ]
     },
     "metadata": {},
     "output_type": "display_data"
    }
   ],
   "source": [
    "# Visualize learning (training loss)\n",
    "import seaborn as sns\n",
    "train_losses_float = [loss for loss in train_losses]\n",
    "train_loss_indices = [i for i,l in enumerate(train_losses_float)]\n",
    "\n",
    "test_losses_float = [loss for loss in test_losses]\n",
    "test_loss_indices = [i for i,l in enumerate(test_losses_float)]\n",
    "\n",
    "plt = sns.lineplot(x = train_loss_indices, y = train_losses_float, color='b', label='Train Loss')\n",
    "plt = sns.lineplot(x = test_loss_indices , y = test_losses_float, color= 'r', label= 'Validation Loss', linestyle=':')\n",
    "plt.legend()\n",
    "plt.set(xlabel='Epochs', ylabel='Loss', title='Losses of Train and Validation Sets')\n",
    "plt.grid('on')\n",
    "plt"
   ]
  },
  {
   "cell_type": "code",
   "execution_count": null,
   "metadata": {
    "id": "LmHc1OxePluO"
   },
   "outputs": [],
   "source": [
    "reliability_ = []\n",
    "for i in test_dataset:\n",
    "  reliability_.append(i.y.item())\n",
    "\n",
    "df_ordered = pd.DataFrame(reliability_, columns=['reliability']).sort_values('reliability')\n",
    "ordered_index = list(df_ordered.index)\n",
    "\n",
    "data_list = []\n",
    "for i in range(len(ordered_index)):\n",
    "  data_list.append(test_dataset[ordered_index[i]])\n",
    "\n",
    "#from torch_geometric.loader import DataLoader\n",
    "new_train_loader = DataLoader(data_list, batch_size=64, shuffle=False)\n",
    "\n",
    "prediction = []\n",
    "for element in new_train_loader:\n",
    "    element.to(device)\n",
    "    with torch.no_grad():\n",
    "        out, embed = model(element.x.cuda(),\n",
    "                    element.edge_index.type(torch.LongTensor).cuda(),\n",
    "               element.edge_attr.type(torch.LongTensor).cuda(),element.batch.squeeze().cuda())\n",
    "        for j in out:\n",
    "          prediction.append(j.item())\n",
    "\n",
    "\n",
    "df_ordered['prediction'] = prediction\n",
    "df_ordered.reset_index(inplace = True, drop = True)"
   ]
  },
  {
   "cell_type": "code",
   "execution_count": null,
   "metadata": {
    "colab": {
     "base_uri": "https://localhost:8080/",
     "height": 472
    },
    "executionInfo": {
     "elapsed": 278,
     "status": "ok",
     "timestamp": 1704921885100,
     "user": {
      "displayName": "Farid Hashemian",
      "userId": "07696851809876459273"
     },
     "user_tz": 360
    },
    "id": "x_V6J47zR9Vy",
    "outputId": "f6a04f24-b986-4f3f-ab16-26b4d32022e5"
   },
   "outputs": [
    {
     "data": {
      "image/png": "[encoded data removed]",
      "text/plain": [
       "<Figure size 640x480 with 1 Axes>"
      ]
     },
     "metadata": {},
     "output_type": "display_data"
    }
   ],
   "source": [
    "import matplotlib.pyplot as plt\n",
    "plt.plot(df_ordered.index, df_ordered.reliability.values, color='red', label='Actual Reliability', linewidth=2.5,)\n",
    "plt.plot(df_ordered.index, df_ordered.prediction.values, color='royalblue',linewidth=0.35,label='Predicted Reliability',alpha=0.65)\n",
    "plt.grid(True)\n",
    "plt.xlabel('Increasing Netweork Reliability Index - Test Set')\n",
    "plt.ylabel('Reliability')\n",
    "plt.title('Prediction on Test Set')\n",
    "plt.legend()\n",
    "plt.show()"
   ]
  },
  {
   "cell_type": "code",
   "execution_count": null,
   "metadata": {
    "id": "bUnJFrsG6At_"
   },
   "outputs": [],
   "source": [
    "plt.figure.savefig('loss_sigmoid.jpg')"
   ]
  },
  {
   "cell_type": "markdown",
   "metadata": {
    "id": "63LYE-DnH7-w"
   },
   "source": [
    "#Save Model"
   ]
  },
  {
   "cell_type": "code",
   "execution_count": null,
   "metadata": {
    "id": "7pw-UYfkXKMt"
   },
   "outputs": [],
   "source": [
    "_epochs = [i for i in range(len(train_losses))]\n",
    "df_losses = pd.DataFrame(list(zip(_epochs, train_losses, test_losses)),\n",
    "                            columns=['epoch', 'train_loss', 'test_loss'])\n",
    "df_losses.to_csv('losses_sigmoid_2024-01-10.csv')"
   ]
  },
  {
   "cell_type": "code",
   "execution_count": null,
   "metadata": {
    "id": "Ye0HM6UsyaT2"
   },
   "outputs": [],
   "source": [
    "torch.save(model, 'model_sigmoid_2024-01-10.pth')\n",
    "#model = torch.load('model_sigmoid_2023-12-21.pth', map_location = \"cuda:0\" if torch.cuda.is_available() else \"cpu\")"
   ]
  },
  {
   "cell_type": "code",
   "execution_count": null,
   "metadata": {
    "colab": {
     "base_uri": "https://localhost:8080/"
    },
    "id": "7JtRs9NBk9Cy",
    "outputId": "0b07f57c-3bbe-4df6-b76c-f171d02489aa"
   },
   "outputs": [
    {
     "name": "stderr",
     "output_type": "stream",
     "text": [
      "ERROR:root:Internal Python error in the inspect module.\n",
      "Below is the traceback from this internal error.\n",
      "\n",
      "ERROR:root:Internal Python error in the inspect module.\n",
      "Below is the traceback from this internal error.\n",
      "\n",
      "ERROR:root:Internal Python error in the inspect module.\n",
      "Below is the traceback from this internal error.\n",
      "\n"
     ]
    },
    {
     "name": "stdout",
     "output_type": "stream",
     "text": [
      "Traceback (most recent call last):\n",
      "  File \"/usr/local/lib/python3.10/dist-packages/IPython/core/interactiveshell.py\", line 3553, in run_code\n",
      "    exec(code_obj, self.user_global_ns, self.user_ns)\n",
      "  File \"<ipython-input-43-648a2bab0435>\", line 1, in <cell line: 1>\n",
      "    while True:\n",
      "KeyboardInterrupt\n",
      "\n",
      "During handling of the above exception, another exception occurred:\n",
      "\n",
      "Traceback (most recent call last):\n",
      "  File \"/usr/local/lib/python3.10/dist-packages/IPython/core/interactiveshell.py\", line 2099, in showtraceback\n",
      "    stb = value._render_traceback_()\n",
      "AttributeError: 'KeyboardInterrupt' object has no attribute '_render_traceback_'\n",
      "\n",
      "During handling of the above exception, another exception occurred:\n",
      "\n",
      "Traceback (most recent call last):\n",
      "  File \"/usr/local/lib/python3.10/dist-packages/IPython/core/ultratb.py\", line 1101, in get_records\n",
      "    return _fixed_getinnerframes(etb, number_of_lines_of_context, tb_offset)\n",
      "  File \"/usr/local/lib/python3.10/dist-packages/IPython/core/ultratb.py\", line 248, in wrapped\n",
      "    return f(*args, **kwargs)\n",
      "  File \"/usr/local/lib/python3.10/dist-packages/IPython/core/ultratb.py\", line 281, in _fixed_getinnerframes\n",
      "    records = fix_frame_records_filenames(inspect.getinnerframes(etb, context))\n",
      "  File \"/usr/lib/python3.10/inspect.py\", line 1662, in getinnerframes\n",
      "    frameinfo = (tb.tb_frame,) + getframeinfo(tb, context)\n",
      "  File \"/usr/lib/python3.10/inspect.py\", line 1620, in getframeinfo\n",
      "    filename = getsourcefile(frame) or getfile(frame)\n",
      "  File \"/usr/lib/python3.10/inspect.py\", line 829, in getsourcefile\n",
      "    module = getmodule(object, filename)\n",
      "  File \"/usr/lib/python3.10/inspect.py\", line 861, in getmodule\n",
      "    file = getabsfile(object, _filename)\n",
      "  File \"/usr/lib/python3.10/inspect.py\", line 845, in getabsfile\n",
      "    return os.path.normcase(os.path.abspath(_filename))\n",
      "  File \"/usr/lib/python3.10/posixpath.py\", line 384, in abspath\n",
      "    cwd = os.getcwd()\n",
      "OSError: [Errno 107] Transport endpoint is not connected\n",
      "Traceback (most recent call last):\n",
      "  File \"/usr/local/lib/python3.10/dist-packages/IPython/core/interactiveshell.py\", line 3553, in run_code\n",
      "    exec(code_obj, self.user_global_ns, self.user_ns)\n",
      "  File \"<ipython-input-43-648a2bab0435>\", line 1, in <cell line: 1>\n",
      "    while True:\n",
      "KeyboardInterrupt\n",
      "\n",
      "During handling of the above exception, another exception occurred:\n",
      "\n",
      "Traceback (most recent call last):\n",
      "  File \"/usr/local/lib/python3.10/dist-packages/IPython/core/interactiveshell.py\", line 2099, in showtraceback\n",
      "    stb = value._render_traceback_()\n",
      "AttributeError: 'KeyboardInterrupt' object has no attribute '_render_traceback_'\n",
      "\n",
      "During handling of the above exception, another exception occurred:\n",
      "\n",
      "Traceback (most recent call last):\n",
      "  File \"/usr/local/lib/python3.10/dist-packages/IPython/core/interactiveshell.py\", line 3473, in run_ast_nodes\n",
      "    if (await self.run_code(code, result,  async_=asy)):\n",
      "  File \"/usr/local/lib/python3.10/dist-packages/IPython/core/interactiveshell.py\", line 3575, in run_code\n",
      "    self.showtraceback(running_compiled_code=True)\n",
      "  File \"/usr/local/lib/python3.10/dist-packages/IPython/core/interactiveshell.py\", line 2101, in showtraceback\n",
      "    stb = self.InteractiveTB.structured_traceback(etype,\n",
      "  File \"/usr/local/lib/python3.10/dist-packages/IPython/core/ultratb.py\", line 1367, in structured_traceback\n",
      "    return FormattedTB.structured_traceback(\n",
      "  File \"/usr/local/lib/python3.10/dist-packages/IPython/core/ultratb.py\", line 1267, in structured_traceback\n",
      "    return VerboseTB.structured_traceback(\n",
      "  File \"/usr/local/lib/python3.10/dist-packages/IPython/core/ultratb.py\", line 1124, in structured_traceback\n",
      "    formatted_exception = self.format_exception_as_a_whole(etype, evalue, etb, number_of_lines_of_context,\n",
      "  File \"/usr/local/lib/python3.10/dist-packages/IPython/core/ultratb.py\", line 1082, in format_exception_as_a_whole\n",
      "    last_unique, recursion_repeat = find_recursion(orig_etype, evalue, records)\n",
      "  File \"/usr/local/lib/python3.10/dist-packages/IPython/core/ultratb.py\", line 382, in find_recursion\n",
      "    return len(records), 0\n",
      "TypeError: object of type 'NoneType' has no len()\n",
      "\n",
      "During handling of the above exception, another exception occurred:\n",
      "\n",
      "Traceback (most recent call last):\n",
      "  File \"/usr/local/lib/python3.10/dist-packages/IPython/core/interactiveshell.py\", line 2099, in showtraceback\n",
      "    stb = value._render_traceback_()\n",
      "AttributeError: 'TypeError' object has no attribute '_render_traceback_'\n",
      "\n",
      "During handling of the above exception, another exception occurred:\n",
      "\n",
      "Traceback (most recent call last):\n",
      "  File \"/usr/local/lib/python3.10/dist-packages/IPython/core/ultratb.py\", line 1101, in get_records\n",
      "    return _fixed_getinnerframes(etb, number_of_lines_of_context, tb_offset)\n",
      "  File \"/usr/local/lib/python3.10/dist-packages/IPython/core/ultratb.py\", line 248, in wrapped\n",
      "    return f(*args, **kwargs)\n",
      "  File \"/usr/local/lib/python3.10/dist-packages/IPython/core/ultratb.py\", line 281, in _fixed_getinnerframes\n",
      "    records = fix_frame_records_filenames(inspect.getinnerframes(etb, context))\n",
      "  File \"/usr/lib/python3.10/inspect.py\", line 1662, in getinnerframes\n",
      "    frameinfo = (tb.tb_frame,) + getframeinfo(tb, context)\n",
      "  File \"/usr/lib/python3.10/inspect.py\", line 1620, in getframeinfo\n",
      "    filename = getsourcefile(frame) or getfile(frame)\n",
      "  File \"/usr/lib/python3.10/inspect.py\", line 829, in getsourcefile\n",
      "    module = getmodule(object, filename)\n",
      "  File \"/usr/lib/python3.10/inspect.py\", line 861, in getmodule\n",
      "    file = getabsfile(object, _filename)\n",
      "  File \"/usr/lib/python3.10/inspect.py\", line 845, in getabsfile\n",
      "    return os.path.normcase(os.path.abspath(_filename))\n",
      "  File \"/usr/lib/python3.10/posixpath.py\", line 384, in abspath\n",
      "    cwd = os.getcwd()\n",
      "OSError: [Errno 107] Transport endpoint is not connected\n",
      "Traceback (most recent call last):\n",
      "  File \"/usr/local/lib/python3.10/dist-packages/IPython/core/interactiveshell.py\", line 3553, in run_code\n",
      "    exec(code_obj, self.user_global_ns, self.user_ns)\n",
      "  File \"<ipython-input-43-648a2bab0435>\", line 1, in <cell line: 1>\n",
      "    while True:\n",
      "KeyboardInterrupt\n",
      "\n",
      "During handling of the above exception, another exception occurred:\n",
      "\n",
      "Traceback (most recent call last):\n",
      "  File \"/usr/local/lib/python3.10/dist-packages/IPython/core/interactiveshell.py\", line 2099, in showtraceback\n",
      "    stb = value._render_traceback_()\n",
      "AttributeError: 'KeyboardInterrupt' object has no attribute '_render_traceback_'\n",
      "\n",
      "During handling of the above exception, another exception occurred:\n",
      "\n",
      "Traceback (most recent call last):\n",
      "  File \"/usr/local/lib/python3.10/dist-packages/IPython/core/interactiveshell.py\", line 3473, in run_ast_nodes\n",
      "    if (await self.run_code(code, result,  async_=asy)):\n",
      "  File \"/usr/local/lib/python3.10/dist-packages/IPython/core/interactiveshell.py\", line 3575, in run_code\n",
      "    self.showtraceback(running_compiled_code=True)\n",
      "  File \"/usr/local/lib/python3.10/dist-packages/IPython/core/interactiveshell.py\", line 2101, in showtraceback\n",
      "    stb = self.InteractiveTB.structured_traceback(etype,\n",
      "  File \"/usr/local/lib/python3.10/dist-packages/IPython/core/ultratb.py\", line 1367, in structured_traceback\n",
      "    return FormattedTB.structured_traceback(\n",
      "  File \"/usr/local/lib/python3.10/dist-packages/IPython/core/ultratb.py\", line 1267, in structured_traceback\n",
      "    return VerboseTB.structured_traceback(\n",
      "  File \"/usr/local/lib/python3.10/dist-packages/IPython/core/ultratb.py\", line 1124, in structured_traceback\n",
      "    formatted_exception = self.format_exception_as_a_whole(etype, evalue, etb, number_of_lines_of_context,\n",
      "  File \"/usr/local/lib/python3.10/dist-packages/IPython/core/ultratb.py\", line 1082, in format_exception_as_a_whole\n",
      "    last_unique, recursion_repeat = find_recursion(orig_etype, evalue, records)\n",
      "  File \"/usr/local/lib/python3.10/dist-packages/IPython/core/ultratb.py\", line 382, in find_recursion\n",
      "    return len(records), 0\n",
      "TypeError: object of type 'NoneType' has no len()\n",
      "\n",
      "During handling of the above exception, another exception occurred:\n",
      "\n",
      "Traceback (most recent call last):\n",
      "  File \"/usr/local/lib/python3.10/dist-packages/IPython/core/interactiveshell.py\", line 2099, in showtraceback\n",
      "    stb = value._render_traceback_()\n",
      "AttributeError: 'TypeError' object has no attribute '_render_traceback_'\n",
      "\n",
      "During handling of the above exception, another exception occurred:\n",
      "\n",
      "Traceback (most recent call last):\n",
      "  File \"/usr/local/lib/python3.10/dist-packages/IPython/core/interactiveshell.py\", line 3030, in _run_cell\n",
      "    return runner(coro)\n",
      "  File \"/usr/local/lib/python3.10/dist-packages/IPython/core/async_helpers.py\", line 78, in _pseudo_sync_runner\n",
      "    coro.send(None)\n",
      "  File \"/usr/local/lib/python3.10/dist-packages/IPython/core/interactiveshell.py\", line 3257, in run_cell_async\n",
      "    has_raised = await self.run_ast_nodes(code_ast.body, cell_name,\n",
      "  File \"/usr/local/lib/python3.10/dist-packages/IPython/core/interactiveshell.py\", line 3492, in run_ast_nodes\n",
      "    self.showtraceback()\n",
      "  File \"/usr/local/lib/python3.10/dist-packages/IPython/core/interactiveshell.py\", line 2101, in showtraceback\n",
      "    stb = self.InteractiveTB.structured_traceback(etype,\n",
      "  File \"/usr/local/lib/python3.10/dist-packages/IPython/core/ultratb.py\", line 1367, in structured_traceback\n",
      "    return FormattedTB.structured_traceback(\n",
      "  File \"/usr/local/lib/python3.10/dist-packages/IPython/core/ultratb.py\", line 1267, in structured_traceback\n",
      "    return VerboseTB.structured_traceback(\n",
      "  File \"/usr/local/lib/python3.10/dist-packages/IPython/core/ultratb.py\", line 1142, in structured_traceback\n",
      "    formatted_exceptions += self.format_exception_as_a_whole(etype, evalue, etb, lines_of_context,\n",
      "  File \"/usr/local/lib/python3.10/dist-packages/IPython/core/ultratb.py\", line 1082, in format_exception_as_a_whole\n",
      "    last_unique, recursion_repeat = find_recursion(orig_etype, evalue, records)\n",
      "  File \"/usr/local/lib/python3.10/dist-packages/IPython/core/ultratb.py\", line 382, in find_recursion\n",
      "    return len(records), 0\n",
      "TypeError: object of type 'NoneType' has no len()\n",
      "\n",
      "During handling of the above exception, another exception occurred:\n",
      "\n",
      "Traceback (most recent call last):\n",
      "  File \"/usr/local/lib/python3.10/dist-packages/IPython/core/interactiveshell.py\", line 2099, in showtraceback\n",
      "    stb = value._render_traceback_()\n",
      "AttributeError: 'TypeError' object has no attribute '_render_traceback_'\n",
      "\n",
      "During handling of the above exception, another exception occurred:\n",
      "\n",
      "Traceback (most recent call last):\n",
      "  File \"/usr/local/lib/python3.10/dist-packages/IPython/core/ultratb.py\", line 1101, in get_records\n",
      "    return _fixed_getinnerframes(etb, number_of_lines_of_context, tb_offset)\n",
      "  File \"/usr/local/lib/python3.10/dist-packages/IPython/core/ultratb.py\", line 248, in wrapped\n",
      "    return f(*args, **kwargs)\n",
      "  File \"/usr/local/lib/python3.10/dist-packages/IPython/core/ultratb.py\", line 281, in _fixed_getinnerframes\n",
      "    records = fix_frame_records_filenames(inspect.getinnerframes(etb, context))\n",
      "  File \"/usr/lib/python3.10/inspect.py\", line 1662, in getinnerframes\n",
      "    frameinfo = (tb.tb_frame,) + getframeinfo(tb, context)\n",
      "  File \"/usr/lib/python3.10/inspect.py\", line 1620, in getframeinfo\n",
      "    filename = getsourcefile(frame) or getfile(frame)\n",
      "  File \"/usr/lib/python3.10/inspect.py\", line 829, in getsourcefile\n",
      "    module = getmodule(object, filename)\n",
      "  File \"/usr/lib/python3.10/inspect.py\", line 861, in getmodule\n",
      "    file = getabsfile(object, _filename)\n",
      "  File \"/usr/lib/python3.10/inspect.py\", line 845, in getabsfile\n",
      "    return os.path.normcase(os.path.abspath(_filename))\n",
      "  File \"/usr/lib/python3.10/posixpath.py\", line 384, in abspath\n",
      "    cwd = os.getcwd()\n",
      "OSError: [Errno 107] Transport endpoint is not connected\n"
     ]
    }
   ],
   "source": [
    "while True:\n",
    "  pass"
   ]
  },
  {
   "cell_type": "markdown",
   "metadata": {
    "id": "KgW0gqi41chm"
   },
   "source": [
    "#New Data for GNN"
   ]
  },
  {
   "cell_type": "code",
   "execution_count": null,
   "metadata": {
    "id": "3xvSYApXxnd9"
   },
   "outputs": [],
   "source": [
    "def predict(new_graph, reliability, model, path):\n",
    "\n",
    "  #path = '/content/drive/MyDrive/RAMS2024_ATNR/data/'\n",
    "\n",
    "  os.chdir(path)\n",
    "  model = torch.load('model.pth', map_location = \"cuda:0\" if torch.cuda.is_available() else \"cpu\")\n",
    "  graph_to_dict = nx.to_dict_of_dicts(new_graph)\n",
    "  sample_graph_df = pd.DataFrame([[graph_to_dict, reliability]], columns=['graphs', 'reliability'])\n",
    "  sample_graph_df.to_csv('raw/sample_graphs.csv')\n",
    "  shutil.rmtree(path+'processed')\n",
    "  os.mkdir(path+'processed')\n",
    "  sample_dset = GraphDataset('.', 'sample_graphs.csv')\n",
    "  sample_loader = DataLoader(sample_dset, batch_size=1, shuffle=False)\n",
    "  sample = next(iter(sample_loader))\n",
    "  device = torch.device(\"cuda:0\" if torch.cuda.is_available() else \"cpu\")\n",
    "  sample.to(device)\n",
    "  with torch.no_grad():\n",
    "    out, embed = model(sample.x.cuda(),\n",
    "                      sample.edge_index.type(torch.LongTensor).cuda(),\n",
    "                      sample.edge_attr.type(torch.LongTensor).cuda(),\n",
    "                      sample.batch.squeeze().cuda())\n",
    "  return float(out)"
   ]
  },
  {
   "cell_type": "code",
   "execution_count": null,
   "metadata": {
    "id": "4vk-WDRexob-"
   },
   "outputs": [],
   "source": [
    "#sample \"https://link.springer.com/chapter/10.1007/978-3-030-29035-1_11\"\n",
    "\n",
    "g1 = nx.Graph()\n",
    "g1.add_nodes_from(range(0, 14))\n",
    "g1.add_edge(0,1)\n",
    "g1.add_edge(0,2)\n",
    "g1.add_edge(0,3)\n",
    "g1.add_edge(1,3)\n",
    "g1.add_edge(1,9)\n",
    "g1.add_edge(1,13)\n",
    "g1.add_edge(2,4)\n",
    "g1.add_edge(2,6)\n",
    "g1.add_edge(2,7)\n",
    "g1.add_edge(2,9)\n",
    "g1.add_edge(3,4)\n",
    "g1.add_edge(3,5)\n",
    "g1.add_edge(3,9)\n",
    "g1.add_edge(3,13)\n",
    "g1.add_edge(4,5)\n",
    "g1.add_edge(5,9)\n",
    "g1.add_edge(5,10)\n",
    "g1.add_edge(6,7)\n",
    "g1.add_edge(6,9)\n",
    "g1.add_edge(6,10)\n",
    "g1.add_edge(6,11)\n",
    "g1.add_edge(6,12)\n",
    "g1.add_edge(7,8)\n",
    "g1.add_edge(9,11)\n",
    "g1.add_edge(9,12)\n",
    "g1.add_edge(11,12)\n",
    "for i in g1.edges():\n",
    "    nx.set_edge_attributes(g1, {i : {\"reliability\": 0.8}})\n",
    "\n",
    "#graph_to_dict = nx.to_dict_of_dicts(g)\n",
    "reliability1 = 0.6793140512072846"
   ]
  },
  {
   "cell_type": "code",
   "execution_count": null,
   "metadata": {
    "id": "hdaUwo6axtRl"
   },
   "outputs": [],
   "source": [
    "#sample 2 \"https://link.springer.com/chapter/10.1007/978-3-319-98557-2_29\"\n",
    "g2 = nx.Graph()\n",
    "g2.add_nodes_from(range(0, 13))\n",
    "#g.add_edge(0,1, reliability = 0.619)\n",
    "g2.add_edge(0,1, reliability = 0.905)\n",
    "g2.add_edge(0,4, reliability = 0.949)\n",
    "g2.add_edge(0,5, reliability = 0.916)\n",
    "g2.add_edge(1,2, reliability = 0.739)\n",
    "g2.add_edge(2,3, reliability = 0.502)\n",
    "g2.add_edge(2,7, reliability = 0.735)\n",
    "g2.add_edge(3,4, reliability = 0.939)\n",
    "g2.add_edge(3,5, reliability = 0.847)\n",
    "g2.add_edge(3,6, reliability = 0.83)\n",
    "g2.add_edge(4,7, reliability = 0.875)\n",
    "g2.add_edge(5,6, reliability = 0.504)\n",
    "g2.add_edge(5,7, reliability = 0.669)\n",
    "g2.add_edge(5,8, reliability = 0.62)\n",
    "g2.add_edge(7,8, reliability = 0.664)\n",
    "#g.add_edge(7,9, reliability = 0.968)\n",
    "#g.add_edge(7,10, reliability = 0.808)\n",
    "#g.add_edge(8,12, reliability = 0.54)\n",
    "#g.add_edge(7,11, reliability = 0.975)\n",
    "\n",
    "#graph_to_dict = nx.to_dict_of_dicts(g2)\n",
    "reliability2 = 0.7356004334442897"
   ]
  },
  {
   "cell_type": "code",
   "execution_count": null,
   "metadata": {
    "colab": {
     "base_uri": "https://localhost:8080/"
    },
    "executionInfo": {
     "elapsed": 338,
     "status": "ok",
     "timestamp": 1690403460978,
     "user": {
      "displayName": "Farid Hashemian",
      "userId": "07696851809876459273"
     },
     "user_tz": 300
    },
    "id": "YuhoJ5T4yEAf",
    "outputId": "d5de4354-dd6b-43bc-9407-3b39ea9b3d75"
   },
   "outputs": [
    {
     "name": "stderr",
     "output_type": "stream",
     "text": [
      "Processing...\n",
      "100%|██████████| 1/1 [00:00<00:00, 112.94it/s]\n",
      "Done!\n"
     ]
    }
   ],
   "source": [
    "path = '/content/drive/MyDrive/RAMS2024_ATNR/data/'\n",
    "x = predict(g2, reliability2, model, path)"
   ]
  },
  {
   "cell_type": "code",
   "execution_count": null,
   "metadata": {
    "colab": {
     "base_uri": "https://localhost:8080/"
    },
    "executionInfo": {
     "elapsed": 143,
     "status": "ok",
     "timestamp": 1690403463737,
     "user": {
      "displayName": "Farid Hashemian",
      "userId": "07696851809876459273"
     },
     "user_tz": 300
    },
    "id": "f12kwsr1yjBJ",
    "outputId": "5a8ccb27-ff93-48cc-9fb0-ed4fd99d9356"
   },
   "outputs": [
    {
     "name": "stdout",
     "output_type": "stream",
     "text": [
      "actual 0.7356004334442897 vs. predicted 0.8140411972999573\n"
     ]
    }
   ],
   "source": [
    "print('actual {} vs. predicted {}'.format(reliability2, x))"
   ]
  },
  {
   "cell_type": "code",
   "execution_count": null,
   "metadata": {
    "id": "NYwyKOIt5eCc"
   },
   "outputs": [],
   "source": []
  }
 ],
 "metadata": {
  "accelerator": "GPU",
  "colab": {
   "authorship_tag": "ABX9TyNe11FIc6KaILdpxyYfe5Ew",
   "gpuType": "T4",
   "machine_shape": "hm",
   "mount_file_id": "1AChMsw1xM10XMbpmmJU8ZGZLvkhWiKRG",
   "provenance": []
  },
  "kernelspec": {
   "display_name": "python3.10",
   "language": "python",
   "name": "python3"
  },
  "language_info": {
   "codemirror_mode": {
    "name": "ipython",
    "version": 3
   },
   "file_extension": ".py",
   "mimetype": "text/x-python",
   "name": "python",
   "nbconvert_exporter": "python",
   "pygments_lexer": "ipython3",
   "version": "3.10.12"
  }
 },
 "nbformat": 4,
 "nbformat_minor": 0
}
