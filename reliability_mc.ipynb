{
 "cells": [
  {
   "cell_type": "code",
   "execution_count": 9,
   "metadata": {},
   "outputs": [],
   "source": [
    "import networkx as nx\n",
    "import random\n",
    "import os\n",
    "import pandas as pd\n",
    "import multiprocessing\n",
    "import argparse\n",
    "from reliability_comp import reliability_comp_fbs, reliability_comp_mc"
   ]
  },
  {
   "cell_type": "code",
   "execution_count": 10,
   "metadata": {},
   "outputs": [],
   "source": [
    "def get_args():\n",
    "    parser = argparse.ArgumentParser()\n",
    "    parser.add_argument(\"--seed\", default=1871, type=int, help=\"seed number\")\n",
    "    parser.add_argument(\"--n_graph\", default=10, type=int, help=\"number of graphs\")\n",
    "    parser.add_argument(\"--n_node\", default=8, type=int, help=\"number of nodes\")\n",
    "    parser.add_argument(\"--l_bound\", default=0.3, type=float, help=\"edge addition lower bound\")\n",
    "    parser.add_argument(\"--u_bound\", default=0.6, type=float, help=\"edge addition upper bound\")\n",
    "    parser.add_argument(\"--path\", default='reliability_tdzdd/', type=str, help=\"path to the folder\")\n",
    "    parser.add_argument(\"--mc_run\", default=10000, type=int, help=\"number of Monte Carlo runs\")\n",
    "    parser.add_argument(\"--mc_scenario\", default=100, type=int, help=\"number of Monte Carlo scenarios\")\n",
    "    parser.add_argument(\"--confidence\", default=0.95, type=float, help=\"confidence level\")\n",
    "    parser.add_argument(\"--comp_type\", default=2, type=int, help=\"type of computation: 1-exact fbs, 2-estimation monte carlo, 3-exact enumeration\")\n",
    "    args = parser.parse_args(args=[])\n",
    "    return args"
   ]
  },
  {
   "cell_type": "code",
   "execution_count": 11,
   "metadata": {},
   "outputs": [],
   "source": [
    "args = get_args()"
   ]
  },
  {
   "cell_type": "code",
   "execution_count": 19,
   "metadata": {},
   "outputs": [],
   "source": [
    "def create_graph(args):\n",
    "\n",
    "    random.seed(args.seed)\n",
    "\n",
    "    dataset = []\n",
    "    number_of_graphs_created = 0\n",
    "\n",
    "    while number_of_graphs_created < args.n_graph:\n",
    "\n",
    "        N = args.n_node\n",
    "\n",
    "        #reliabilty = [0.80, 0.85, 0.90, 0.95, 0.99]\n",
    "        # Create an empty graph object\n",
    "        g = nx.Graph()\n",
    "\n",
    "\n",
    "        # Adding nodes\n",
    "        g.add_nodes_from(range(0, N))\n",
    "\n",
    "\n",
    "        # Add edges to the graph randomly.\n",
    "        for i in g.nodes():\n",
    "            for j in g.nodes():\n",
    "                if (i < j):\n",
    "\n",
    "                    # Take random number R.\n",
    "                    R = random.random()\n",
    "\n",
    "                    # Check if R is in the range [0.3, 0.56]\n",
    "                    if (args.l_bound <= R <= args.u_bound):\n",
    "                        g.add_edge(i, j)\n",
    "                        nx.set_edge_attributes(g, {(i, j): {\"reliability\": random.uniform(0.5,1)}})\n",
    "\n",
    "\n",
    "        if nx.is_connected(g) == True:\n",
    "            dataset.append(g)\n",
    "            number_of_graphs_created += 1\n",
    "        else:\n",
    "            continue\n",
    "    print('Graphs created: ', number_of_graphs_created)\n",
    "    return dataset\n",
    "\n",
    "def comp_process(dataset, args):\n",
    "    #os.chdir(os.path.expanduser('~'))\n",
    "    os.chdir(args.path)\n",
    "    #results = []\n",
    "    if args.comp_type == 1:\n",
    "        with open ('../save_files/results_{}.csv'.format(args.n_node), 'w') as f:\n",
    "            for i, t in zip(dataset, range(len(dataset))):\n",
    "                rel, time = reliability_comp_fbs(i, t, args.n_node)\n",
    "            f.write('{};{};{}\\n'.format(nx.to_dict_of_dicts(i), rel, time))\n",
    "        f.close()\n",
    "    \n",
    "    elif args.comp_type == 2:\n",
    "        \n",
    "        rel_args = [(i, args, t, args.n_node) for i,t in zip(dataset, range(len(dataset)))]\n",
    "        with multiprocessing.Pool(processes=32) as pool:\n",
    "            results = pool.starmap(reliability_comp_mc, rel_args)\n",
    "\n",
    "        with open ('../save_files/results_{}.csv'.format(args.n_node), 'w') as f:\n",
    "            for i, t in zip(dataset, range(len(dataset))):\n",
    "            #     rel, rel_std, rel_lower, rel_upper, time = reliability_comp_mc(i, args, t, args.n_node)\n",
    "                f.write('{};{};{};{};{};{}\\n'.format(nx.to_dict_of_dicts(i), results[t][0],results[t][1], results[t][2], results[t][3], results[t][4]))\n",
    "        f.close()\n"
   ]
  },
  {
   "cell_type": "code",
   "execution_count": 22,
   "metadata": {},
   "outputs": [
    {
     "name": "stdout",
     "output_type": "stream",
     "text": [
      "Graphs created:  10\n"
     ]
    }
   ],
   "source": [
    "if __name__ == \"__main__\":\n",
    "    args = get_args()\n",
    "    dataset = create_graph(args)\n",
    "    #print(multi_process(dataset))\n",
    "    comp_process(dataset, args)"
   ]
  },
  {
   "cell_type": "code",
   "execution_count": 21,
   "metadata": {},
   "outputs": [
    {
     "name": "stdout",
     "output_type": "stream",
     "text": [
      "/Users/farid/Downloads/All-Terminal-Reliability\n"
     ]
    }
   ],
   "source": [
    "%cd .."
   ]
  },
  {
   "cell_type": "code",
   "execution_count": 10,
   "metadata": {},
   "outputs": [
    {
     "name": "stdout",
     "output_type": "stream",
     "text": [
      "Graphs created:  10\n"
     ]
    }
   ],
   "source": [
    "dataset = create_graph(args)"
   ]
  },
  {
   "cell_type": "code",
   "execution_count": null,
   "metadata": {},
   "outputs": [],
   "source": [
    "def confidence_interval(data, confidence=0.95):\n",
    "\n",
    "    mean = np.mean(data)\n",
    "    standard_error = stats.sem(data)\n",
    "    degrees_of_freedom = len(data) - 1\n",
    "    t_critical = stats.t.ppf((1 + confidence) / 2, degrees_of_freedom)\n",
    "    margin_of_error = t_critical * standard_error\n",
    "    \n",
    "    lower_bound = mean - margin_of_error\n",
    "    upper_bound = mean + margin_of_error\n",
    "    \n",
    "    return lower_bound, upper_bound"
   ]
  },
  {
   "cell_type": "code",
   "execution_count": 33,
   "metadata": {},
   "outputs": [
    {
     "name": "stdout",
     "output_type": "stream",
     "text": [
      "0.9725800000000001 0.9712792650955182 0.973880734904482\n",
      "0.17447 0.17211377028465968 0.1768262297153403\n",
      "0.5211699999999999 0.5180157437918327 0.5243242562081671\n",
      "0.8009700000000001 0.7973900295764824 0.8045499704235177\n",
      "0.34133 0.33763960105437335 0.3450203989456267\n",
      "0.12268000000000001 0.12066573425155694 0.12469426574844308\n",
      "0.33359000000000005 0.3309608646677505 0.3362191353322496\n",
      "0.26303 0.2599779875158988 0.2660820124841012\n",
      "0.5398099999999999 0.5348647211578869 0.5447552788421129\n",
      "0.3051 0.30200323986637756 0.3081967601336224\n"
     ]
    }
   ],
   "source": [
    "for i in dataset:\n",
    "    data = all_terminal_reliability_mc(i)\n",
    "    print(np.mean(data), confidence_interval(data)[0], confidence_interval(data)[1])"
   ]
  },
  {
   "cell_type": "code",
   "execution_count": 14,
   "metadata": {},
   "outputs": [],
   "source": [
    "from reliability_comp import reliability_comp_fbs"
   ]
  },
  {
   "cell_type": "code",
   "execution_count": 21,
   "metadata": {},
   "outputs": [
    {
     "name": "stdout",
     "output_type": "stream",
     "text": [
      "/Users/farid/Downloads/All-Terminal-Reliability/reliability_tdzdd\n"
     ]
    }
   ],
   "source": [
    "%cd reliability_tdzdd"
   ]
  },
  {
   "cell_type": "code",
   "execution_count": 24,
   "metadata": {},
   "outputs": [
    {
     "name": "stdout",
     "output_type": "stream",
     "text": [
      "0.9736604021\n",
      "0.1745074378\n",
      "0.5199807424\n",
      "0.8018757519\n",
      "0.3396214091\n",
      "0.1240917568\n",
      "0.3346791981\n",
      "0.2652119244\n",
      "0.5359889512\n",
      "0.3091974369\n"
     ]
    }
   ],
   "source": [
    "for i, g in zip(range(len(dataset)), dataset):\n",
    "    print(reliability_comp_fbs(g, i, 8)[0])"
   ]
  },
  {
   "cell_type": "code",
   "execution_count": 20,
   "metadata": {},
   "outputs": [
    {
     "name": "stdout",
     "output_type": "stream",
     "text": [
      "/Users/farid/Downloads/All-Terminal-Reliability\n"
     ]
    }
   ],
   "source": [
    "!pwd"
   ]
  },
  {
   "cell_type": "code",
   "execution_count": 18,
   "metadata": {},
   "outputs": [
    {
     "data": {
      "text/plain": [
       "range(0, 10)"
      ]
     },
     "execution_count": 18,
     "metadata": {},
     "output_type": "execute_result"
    }
   ],
   "source": [
    "range(len(dataset))"
   ]
  },
  {
   "cell_type": "code",
   "execution_count": null,
   "metadata": {},
   "outputs": [],
   "source": []
  }
 ],
 "metadata": {
  "kernelspec": {
   "display_name": "base",
   "language": "python",
   "name": "python3"
  },
  "language_info": {
   "codemirror_mode": {
    "name": "ipython",
    "version": 3
   },
   "file_extension": ".py",
   "mimetype": "text/x-python",
   "name": "python",
   "nbconvert_exporter": "python",
   "pygments_lexer": "ipython3",
   "version": "3.10.10"
  }
 },
 "nbformat": 4,
 "nbformat_minor": 2
}
