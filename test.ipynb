{
 "cells": [
  {
   "cell_type": "code",
   "execution_count": 179,
   "metadata": {},
   "outputs": [],
   "source": [
    "import os\n",
    "import subprocess\n",
    "import networkx as nx\n",
    "import random\n",
    "import shutil"
   ]
  },
  {
   "cell_type": "code",
   "execution_count": 2,
   "metadata": {},
   "outputs": [],
   "source": [
    "class ATREL_Model():\n",
    "  def __init__(self,\n",
    "               path_data:str,\n",
    "               path_prog:str,\n",
    "               seed:int):\n",
    "    #self.model=GNN\n",
    "    random.seed(seed)\n",
    "    self.path_dat=path_data\n",
    "    self.path_prog=path_prog\n",
    "    self.seed=random.random()\n",
    "\n",
    "  def _predict(self,G:nx.Graph,reliability=0)->float:\n",
    "    home_dir = os.path.expanduser(\"~\")\n",
    "    os.chdir(home_dir)\n",
    "    path_file = self.path_dat\n",
    "    path_run = self.path_prog\n",
    "    os.chdir(path_file)\n",
    "    if not os.path.isfile('reliability_{}.dat'.format(self.seed)) and not os.path.isfile('connections_{}.dat'.format(self.seed)) and not os.path.isfile('grid_{}.dat'.format(self.seed)):  \n",
    "        rels = open('reliability_{}.dat'.format(self.seed), 'w')\n",
    "        cons = open('connections_{}.dat'.format(self.seed), 'w')\n",
    "        ter = open('grid_{}.dat'.format(self.seed), 'w')\n",
    "        nodes = G.number_of_nodes()\n",
    "        for key , value in nx.get_edge_attributes(G, 'reliability').items():\n",
    "            rels.write(f'{value} ')\n",
    "            cons.write(f'{key[0]} {key[1]}\\n')\n",
    "\n",
    "        ter.write(f'{0} {nodes-1}\\n')\n",
    "        rels.close()\n",
    "        cons.close()\n",
    "        ter.close()\n",
    "        home_dir = os.path.expanduser(\"~\")\n",
    "        os.chdir(home_dir)\n",
    "        os.chdir(path_run)\n",
    "        cmd = [\"./reliability\", \"-allrel\", '../tmp_files/connections_{}.dat'.format(self.seed), '../tmp_files/grid_{}.dat'.format(self.seed), '../tmp_files/reliability_{}.dat'.format(self.seed)]\n",
    "        result = subprocess.run(cmd, text=True, capture_output=True)\n",
    "        home_dir = os.path.expanduser(\"~\")\n",
    "        os.chdir(home_dir)\n",
    "        os.chdir(path_file)\n",
    "        os.remove('reliability_{}.dat'.format(self.seed))\n",
    "        os.remove('connections_{}.dat'.format(self.seed))\n",
    "        os.remove('grid_{}.dat'.format(self.seed))\n",
    "    return float((str(result).split(',')[-3][str(result).split(',')[-3].index('prob')+7:str(result).split(',')[-3].index('\\\\n')]))\n",
    "\n",
    "  def predict(self,G:nx.Graph)->float:\n",
    "    connected=nx.is_connected(G)\n",
    "    if connected:\n",
    "      r = self._predict(G)\n",
    "    else:\n",
    "      r=0\n",
    "    return r\n",
    "  "
   ]
  },
  {
   "cell_type": "code",
   "execution_count": 95,
   "metadata": {},
   "outputs": [
    {
     "name": "stdout",
     "output_type": "stream",
     "text": [
      "/Users/farid/Downloads/All-Terminal-Reliability/tmp_files\n"
     ]
    }
   ],
   "source": [
    "!pwd"
   ]
  },
  {
   "cell_type": "code",
   "execution_count": 96,
   "metadata": {},
   "outputs": [
    {
     "name": "stdout",
     "output_type": "stream",
     "text": [
      "/Users/farid\n"
     ]
    }
   ],
   "source": [
    "%cd ~"
   ]
  },
  {
   "cell_type": "code",
   "execution_count": null,
   "metadata": {},
   "outputs": [],
   "source": []
  },
  {
   "cell_type": "code",
   "execution_count": 97,
   "metadata": {},
   "outputs": [
    {
     "data": {
      "text/plain": [
       "'/Users/farid'"
      ]
     },
     "execution_count": 97,
     "metadata": {},
     "output_type": "execute_result"
    }
   ],
   "source": [
    "os.getcwd()"
   ]
  },
  {
   "cell_type": "code",
   "execution_count": 180,
   "metadata": {},
   "outputs": [],
   "source": [
    "def compute_rel(G:nx.Graph, \n",
    "                folder_path:str = '/Downloads/All-Terminal-Reliability',\n",
    "                run_path:str = '/Downloads/All-Terminal-Reliability/reliability_tdzdd',\n",
    "                seed: int = None)->float:\n",
    "    random.seed(seed)\n",
    "    id = random.random()\n",
    "    os.chdir(os.path.expanduser(\"~\")+folder_path)\n",
    "    os.mkdir('tmp_files_{}'.format(id)) if not os.path.isdir('tmp_files_{}'.format(id)) else None\n",
    "    #home_dir = os.path.expanduser(\"~\")\n",
    "    os.chdir('tmp_files_{}'.format(id))\n",
    "    #os.chdir(data_path)\n",
    "    if not os.path.isfile('reliability_{}.dat'.format(id)) and not os.path.isfile('connections_{}.dat'.format(id)) and not os.path.isfile('grid_{}.dat'.format(id)):  \n",
    "        rels = open('reliability_{}.dat'.format(id), 'w')\n",
    "        cons = open('connections_{}.dat'.format(id), 'w')\n",
    "        ter = open('grid_{}.dat'.format(id), 'w')\n",
    "        nodes = G.number_of_nodes()\n",
    "        for key , value in nx.get_edge_attributes(G, 'reliability').items():\n",
    "            rels.write(f'{value} ')\n",
    "            cons.write(f'{key[0]} {key[1]}\\n')\n",
    "\n",
    "        ter.write(f'{0} {nodes-1}\\n')\n",
    "        rels.close()\n",
    "        cons.close()\n",
    "        ter.close()\n",
    "        os.chdir(os.path.expanduser(\"~\") + run_path)\n",
    "        cmd = [\"./reliability\", \"-allrel\", '../tmp_files_{}/connections_{}.dat'.format(id, id),\n",
    "                '../tmp_files_{}/grid_{}.dat'.format(id, id), '../tmp_files_{}/reliability_{}.dat'.format(id, id)]\n",
    "        result = subprocess.run(cmd, text=True, capture_output=True)\n",
    "        os.chdir(os.path.expanduser(\"~\") + folder_path)\n",
    "        shutil.rmtree('tmp_files_{}'.format(id))\n",
    "        \n",
    "        # os.chdir(home_dir)\n",
    "        # os.chdir(data_path)\n",
    "        # os.remove('reliability_{}.dat'.format(id))\n",
    "        # os.remove('connections_{}.dat'.format(id))\n",
    "        # os.remove('grid_{}.dat'.format(id))\n",
    "    return float((str(result).split(',')[-3][str(result).split(',')[-3].index('prob')+7:str(result).split(',')[-3].index('\\\\n')]))"
   ]
  },
  {
   "cell_type": "code",
   "execution_count": 181,
   "metadata": {},
   "outputs": [],
   "source": [
    "import networkx as nx\n",
    "import random\n",
    "import itertools\n",
    "import ast\n",
    "import logging\n",
    "import pandas as pd\n",
    "import multiprocessing\n",
    "import argparse\n",
    "from reliability_comp import reliability"
   ]
  },
  {
   "cell_type": "code",
   "execution_count": 182,
   "metadata": {},
   "outputs": [],
   "source": [
    "def get_args():\n",
    "    parser = argparse.ArgumentParser()\n",
    "    parser.add_argument(\"--seed\", default=1871, type=int, help=\"seed number\")\n",
    "    parser.add_argument(\"--n_graph\", default=10, type=int, help=\"number of graphs\")\n",
    "    parser.add_argument(\"--n_node\", default=8, type=int, help=\"number of nodes\")\n",
    "    parser.add_argument(\"--l_bound\", default=0.3, type=float, help=\"edge addition lower bound\")\n",
    "    parser.add_argument(\"--u_bound\", default=0.6, type=float, help=\"edge addition upper bound\")\n",
    "    args = parser.parse_known_args()\n",
    "    return args"
   ]
  },
  {
   "cell_type": "code",
   "execution_count": 183,
   "metadata": {},
   "outputs": [],
   "source": [
    "args = get_args()"
   ]
  },
  {
   "cell_type": "code",
   "execution_count": 184,
   "metadata": {},
   "outputs": [],
   "source": [
    "def create_graph(args):\n",
    "\n",
    "    random.seed(args.seed)\n",
    "\n",
    "    dataset = []\n",
    "    number_of_graphs_created = 0\n",
    "    #unconnected_graphs = 0\n",
    "\n",
    "    while number_of_graphs_created < args.n_graph:\n",
    "\n",
    "        N = args.n_node\n",
    "\n",
    "        reliabilty = [0.80, 0.85, 0.90, 0.95, 0.99]\n",
    "        # Create an empty graph object\n",
    "        g = nx.Graph()\n",
    "\n",
    "\n",
    "        # Adding nodes\n",
    "        g.add_nodes_from(range(0, N))\n",
    "\n",
    "\n",
    "        # Add edges to the graph randomly.\n",
    "        for i in g.nodes():\n",
    "            for j in g.nodes():\n",
    "                if (i < j):\n",
    "\n",
    "                    # Take random number R.\n",
    "                    R = random.random()\n",
    "\n",
    "                    # Check if R is in the range [0.3, 0.56]\n",
    "                    if (args.l_bound <= R <= args.u_bound):\n",
    "                        g.add_edge(i, j)\n",
    "                        nx.set_edge_attributes(g, {(i, j): {\"reliability\": random.choice(reliabilty)}})\n",
    "\n",
    "\n",
    "        if nx.is_connected(g) == True:\n",
    "            dataset.append(g)\n",
    "            number_of_graphs_created += 1\n",
    "        else:\n",
    "            continue\n",
    "    print('Graphs created: ', number_of_graphs_created)\n",
    "    return dataset"
   ]
  },
  {
   "cell_type": "code",
   "execution_count": 185,
   "metadata": {},
   "outputs": [
    {
     "name": "stdout",
     "output_type": "stream",
     "text": [
      "Graphs created:  10\n"
     ]
    }
   ],
   "source": [
    "dataset = create_graph(args[0])"
   ]
  },
  {
   "cell_type": "code",
   "execution_count": 186,
   "metadata": {},
   "outputs": [
    {
     "data": {
      "text/plain": [
       "[<networkx.classes.graph.Graph at 0x13fc9db70>,\n",
       " <networkx.classes.graph.Graph at 0x13fc9fbe0>,\n",
       " <networkx.classes.graph.Graph at 0x13fc9de70>,\n",
       " <networkx.classes.graph.Graph at 0x13fc9c400>,\n",
       " <networkx.classes.graph.Graph at 0x13fc9ee30>,\n",
       " <networkx.classes.graph.Graph at 0x13fc9d3f0>,\n",
       " <networkx.classes.graph.Graph at 0x13fc9c040>,\n",
       " <networkx.classes.graph.Graph at 0x13fc9f2b0>,\n",
       " <networkx.classes.graph.Graph at 0x13fc9e4d0>,\n",
       " <networkx.classes.graph.Graph at 0x13fc9f8b0>]"
      ]
     },
     "execution_count": 186,
     "metadata": {},
     "output_type": "execute_result"
    }
   ],
   "source": [
    "dataset"
   ]
  },
  {
   "cell_type": "code",
   "execution_count": 190,
   "metadata": {},
   "outputs": [
    {
     "data": {
      "text/plain": [
       "0.678391831"
      ]
     },
     "execution_count": 190,
     "metadata": {},
     "output_type": "execute_result"
    }
   ],
   "source": [
    "compute_rel(G = dataset[3], seed = random.randint(5000, 10000))"
   ]
  },
  {
   "cell_type": "code",
   "execution_count": 121,
   "metadata": {},
   "outputs": [
    {
     "name": "stdout",
     "output_type": "stream",
     "text": [
      "/Users/farid/Downloads/All-Terminal-Reliability\n"
     ]
    }
   ],
   "source": [
    "%cd ~/Downloads/All-Terminal-Reliability"
   ]
  },
  {
   "cell_type": "code",
   "execution_count": 191,
   "metadata": {},
   "outputs": [],
   "source": [
    "args = [(i, random.randint(5000, 10000)) for i in dataset]"
   ]
  },
  {
   "cell_type": "code",
   "execution_count": 192,
   "metadata": {},
   "outputs": [
    {
     "data": {
      "text/plain": [
       "(<networkx.classes.graph.Graph at 0x13fc9fbe0>, 5749)"
      ]
     },
     "execution_count": 192,
     "metadata": {},
     "output_type": "execute_result"
    }
   ],
   "source": [
    "args[1]"
   ]
  },
  {
   "cell_type": "code",
   "execution_count": 194,
   "metadata": {},
   "outputs": [
    {
     "name": "stderr",
     "output_type": "stream",
     "text": [
      "Process SpawnPoolWorker-329:\n",
      "Process SpawnPoolWorker-331:\n",
      "Process SpawnPoolWorker-328:\n",
      "Process SpawnPoolWorker-330:\n",
      "Process SpawnPoolWorker-332:\n",
      "Process SpawnPoolWorker-333:\n",
      "Traceback (most recent call last):\n",
      "  File \"/Users/farid/miniconda3/lib/python3.10/multiprocessing/process.py\", line 314, in _bootstrap\n",
      "    self.run()\n",
      "  File \"/Users/farid/miniconda3/lib/python3.10/multiprocessing/process.py\", line 108, in run\n",
      "    self._target(*self._args, **self._kwargs)\n",
      "  File \"/Users/farid/miniconda3/lib/python3.10/multiprocessing/pool.py\", line 114, in worker\n",
      "    task = get()\n",
      "Traceback (most recent call last):\n",
      "  File \"/Users/farid/miniconda3/lib/python3.10/multiprocessing/queues.py\", line 367, in get\n",
      "    return _ForkingPickler.loads(res)\n",
      "AttributeError: Can't get attribute 'compute_rel' on <module '__main__' (built-in)>\n",
      "  File \"/Users/farid/miniconda3/lib/python3.10/multiprocessing/process.py\", line 314, in _bootstrap\n",
      "    self.run()\n",
      "  File \"/Users/farid/miniconda3/lib/python3.10/multiprocessing/process.py\", line 108, in run\n",
      "    self._target(*self._args, **self._kwargs)\n",
      "  File \"/Users/farid/miniconda3/lib/python3.10/multiprocessing/pool.py\", line 114, in worker\n",
      "    task = get()\n",
      "  File \"/Users/farid/miniconda3/lib/python3.10/multiprocessing/queues.py\", line 367, in get\n",
      "    return _ForkingPickler.loads(res)\n",
      "AttributeError: Can't get attribute 'compute_rel' on <module '__main__' (built-in)>\n",
      "Traceback (most recent call last):\n",
      "  File \"/Users/farid/miniconda3/lib/python3.10/multiprocessing/process.py\", line 314, in _bootstrap\n",
      "    self.run()\n",
      "  File \"/Users/farid/miniconda3/lib/python3.10/multiprocessing/process.py\", line 108, in run\n",
      "    self._target(*self._args, **self._kwargs)\n",
      "  File \"/Users/farid/miniconda3/lib/python3.10/multiprocessing/pool.py\", line 114, in worker\n",
      "    task = get()\n",
      "  File \"/Users/farid/miniconda3/lib/python3.10/multiprocessing/queues.py\", line 367, in get\n",
      "    return _ForkingPickler.loads(res)\n",
      "AttributeError: Can't get attribute 'compute_rel' on <module '__main__' (built-in)>\n",
      "Process SpawnPoolWorker-335:\n",
      "Traceback (most recent call last):\n",
      "Traceback (most recent call last):\n",
      "  File \"/Users/farid/miniconda3/lib/python3.10/multiprocessing/process.py\", line 314, in _bootstrap\n",
      "    self.run()\n",
      "  File \"/Users/farid/miniconda3/lib/python3.10/multiprocessing/process.py\", line 314, in _bootstrap\n",
      "    self.run()\n",
      "  File \"/Users/farid/miniconda3/lib/python3.10/multiprocessing/process.py\", line 108, in run\n",
      "    self._target(*self._args, **self._kwargs)\n",
      "  File \"/Users/farid/miniconda3/lib/python3.10/multiprocessing/pool.py\", line 114, in worker\n",
      "    task = get()\n",
      "  File \"/Users/farid/miniconda3/lib/python3.10/multiprocessing/process.py\", line 108, in run\n",
      "    self._target(*self._args, **self._kwargs)\n",
      "  File \"/Users/farid/miniconda3/lib/python3.10/multiprocessing/queues.py\", line 367, in get\n",
      "    return _ForkingPickler.loads(res)\n",
      "  File \"/Users/farid/miniconda3/lib/python3.10/multiprocessing/pool.py\", line 114, in worker\n",
      "    task = get()\n",
      "AttributeError: Can't get attribute 'compute_rel' on <module '__main__' (built-in)>\n",
      "  File \"/Users/farid/miniconda3/lib/python3.10/multiprocessing/queues.py\", line 367, in get\n",
      "    return _ForkingPickler.loads(res)\n",
      "AttributeError: Can't get attribute 'compute_rel' on <module '__main__' (built-in)>\n",
      "Traceback (most recent call last):\n",
      "  File \"/Users/farid/miniconda3/lib/python3.10/multiprocessing/process.py\", line 314, in _bootstrap\n",
      "    self.run()\n",
      "  File \"/Users/farid/miniconda3/lib/python3.10/multiprocessing/process.py\", line 108, in run\n",
      "    self._target(*self._args, **self._kwargs)\n",
      "  File \"/Users/farid/miniconda3/lib/python3.10/multiprocessing/pool.py\", line 114, in worker\n",
      "    task = get()\n",
      "  File \"/Users/farid/miniconda3/lib/python3.10/multiprocessing/queues.py\", line 367, in get\n",
      "    return _ForkingPickler.loads(res)\n",
      "AttributeError: Can't get attribute 'compute_rel' on <module '__main__' (built-in)>\n",
      "Traceback (most recent call last):\n",
      "  File \"/Users/farid/miniconda3/lib/python3.10/multiprocessing/process.py\", line 314, in _bootstrap\n",
      "    self.run()\n",
      "  File \"/Users/farid/miniconda3/lib/python3.10/multiprocessing/process.py\", line 108, in run\n",
      "    self._target(*self._args, **self._kwargs)\n",
      "  File \"/Users/farid/miniconda3/lib/python3.10/multiprocessing/pool.py\", line 114, in worker\n",
      "    task = get()\n",
      "  File \"/Users/farid/miniconda3/lib/python3.10/multiprocessing/queues.py\", line 367, in get\n",
      "    return _ForkingPickler.loads(res)\n",
      "AttributeError: Can't get attribute 'compute_rel' on <module '__main__' (built-in)>\n",
      "Process SpawnPoolWorker-334:\n",
      "Traceback (most recent call last):\n",
      "  File \"/Users/farid/miniconda3/lib/python3.10/multiprocessing/process.py\", line 314, in _bootstrap\n",
      "    self.run()\n",
      "  File \"/Users/farid/miniconda3/lib/python3.10/multiprocessing/process.py\", line 108, in run\n",
      "    self._target(*self._args, **self._kwargs)\n",
      "  File \"/Users/farid/miniconda3/lib/python3.10/multiprocessing/pool.py\", line 114, in worker\n",
      "    task = get()\n",
      "  File \"/Users/farid/miniconda3/lib/python3.10/multiprocessing/queues.py\", line 367, in get\n",
      "    return _ForkingPickler.loads(res)\n",
      "AttributeError: Can't get attribute 'compute_rel' on <module '__main__' (built-in)>\n",
      "Process SpawnPoolWorker-336:\n",
      "Traceback (most recent call last):\n",
      "  File \"/Users/farid/miniconda3/lib/python3.10/multiprocessing/process.py\", line 314, in _bootstrap\n",
      "    self.run()\n",
      "  File \"/Users/farid/miniconda3/lib/python3.10/multiprocessing/process.py\", line 108, in run\n",
      "    self._target(*self._args, **self._kwargs)\n",
      "  File \"/Users/farid/miniconda3/lib/python3.10/multiprocessing/pool.py\", line 114, in worker\n",
      "    task = get()\n",
      "  File \"/Users/farid/miniconda3/lib/python3.10/multiprocessing/queues.py\", line 367, in get\n",
      "    return _ForkingPickler.loads(res)\n",
      "AttributeError: Can't get attribute 'compute_rel' on <module '__main__' (built-in)>\n",
      "Process SpawnPoolWorker-337:\n",
      "Traceback (most recent call last):\n",
      "  File \"/Users/farid/miniconda3/lib/python3.10/multiprocessing/process.py\", line 314, in _bootstrap\n",
      "    self.run()\n",
      "  File \"/Users/farid/miniconda3/lib/python3.10/multiprocessing/process.py\", line 108, in run\n",
      "    self._target(*self._args, **self._kwargs)\n",
      "  File \"/Users/farid/miniconda3/lib/python3.10/multiprocessing/pool.py\", line 114, in worker\n",
      "    task = get()\n",
      "  File \"/Users/farid/miniconda3/lib/python3.10/multiprocessing/queues.py\", line 367, in get\n",
      "    return _ForkingPickler.loads(res)\n",
      "AttributeError: Can't get attribute 'compute_rel' on <module '__main__' (built-in)>\n"
     ]
    },
    {
     "ename": "KeyboardInterrupt",
     "evalue": "",
     "output_type": "error",
     "traceback": [
      "\u001b[0;31m---------------------------------------------------------------------------\u001b[0m",
      "\u001b[0;31mKeyboardInterrupt\u001b[0m                         Traceback (most recent call last)",
      "Cell \u001b[0;32mIn[194], line 2\u001b[0m\n\u001b[1;32m      1\u001b[0m \u001b[38;5;28;01mwith\u001b[39;00m multiprocessing\u001b[38;5;241m.\u001b[39mPool(processes\u001b[38;5;241m=\u001b[39m\u001b[38;5;241m32\u001b[39m) \u001b[38;5;28;01mas\u001b[39;00m pool:\n\u001b[0;32m----> 2\u001b[0m      dssc \u001b[38;5;241m=\u001b[39m \u001b[43mpool\u001b[49m\u001b[38;5;241;43m.\u001b[39;49m\u001b[43mstarmap\u001b[49m\u001b[43m(\u001b[49m\u001b[43mcompute_rel\u001b[49m\u001b[43m,\u001b[49m\u001b[43m \u001b[49m\u001b[43margs\u001b[49m\u001b[43m)\u001b[49m\n",
      "File \u001b[0;32m~/miniconda3/lib/python3.10/multiprocessing/pool.py:375\u001b[0m, in \u001b[0;36mPool.starmap\u001b[0;34m(self, func, iterable, chunksize)\u001b[0m\n\u001b[1;32m    369\u001b[0m \u001b[38;5;28;01mdef\u001b[39;00m \u001b[38;5;21mstarmap\u001b[39m(\u001b[38;5;28mself\u001b[39m, func, iterable, chunksize\u001b[38;5;241m=\u001b[39m\u001b[38;5;28;01mNone\u001b[39;00m):\n\u001b[1;32m    370\u001b[0m \u001b[38;5;250m    \u001b[39m\u001b[38;5;124;03m'''\u001b[39;00m\n\u001b[1;32m    371\u001b[0m \u001b[38;5;124;03m    Like `map()` method but the elements of the `iterable` are expected to\u001b[39;00m\n\u001b[1;32m    372\u001b[0m \u001b[38;5;124;03m    be iterables as well and will be unpacked as arguments. Hence\u001b[39;00m\n\u001b[1;32m    373\u001b[0m \u001b[38;5;124;03m    `func` and (a, b) becomes func(a, b).\u001b[39;00m\n\u001b[1;32m    374\u001b[0m \u001b[38;5;124;03m    '''\u001b[39;00m\n\u001b[0;32m--> 375\u001b[0m     \u001b[38;5;28;01mreturn\u001b[39;00m \u001b[38;5;28;43mself\u001b[39;49m\u001b[38;5;241;43m.\u001b[39;49m\u001b[43m_map_async\u001b[49m\u001b[43m(\u001b[49m\u001b[43mfunc\u001b[49m\u001b[43m,\u001b[49m\u001b[43m \u001b[49m\u001b[43miterable\u001b[49m\u001b[43m,\u001b[49m\u001b[43m \u001b[49m\u001b[43mstarmapstar\u001b[49m\u001b[43m,\u001b[49m\u001b[43m \u001b[49m\u001b[43mchunksize\u001b[49m\u001b[43m)\u001b[49m\u001b[38;5;241;43m.\u001b[39;49m\u001b[43mget\u001b[49m\u001b[43m(\u001b[49m\u001b[43m)\u001b[49m\n",
      "File \u001b[0;32m~/miniconda3/lib/python3.10/multiprocessing/pool.py:768\u001b[0m, in \u001b[0;36mApplyResult.get\u001b[0;34m(self, timeout)\u001b[0m\n\u001b[1;32m    767\u001b[0m \u001b[38;5;28;01mdef\u001b[39;00m \u001b[38;5;21mget\u001b[39m(\u001b[38;5;28mself\u001b[39m, timeout\u001b[38;5;241m=\u001b[39m\u001b[38;5;28;01mNone\u001b[39;00m):\n\u001b[0;32m--> 768\u001b[0m     \u001b[38;5;28;43mself\u001b[39;49m\u001b[38;5;241;43m.\u001b[39;49m\u001b[43mwait\u001b[49m\u001b[43m(\u001b[49m\u001b[43mtimeout\u001b[49m\u001b[43m)\u001b[49m\n\u001b[1;32m    769\u001b[0m     \u001b[38;5;28;01mif\u001b[39;00m \u001b[38;5;129;01mnot\u001b[39;00m \u001b[38;5;28mself\u001b[39m\u001b[38;5;241m.\u001b[39mready():\n\u001b[1;32m    770\u001b[0m         \u001b[38;5;28;01mraise\u001b[39;00m \u001b[38;5;167;01mTimeoutError\u001b[39;00m\n",
      "File \u001b[0;32m~/miniconda3/lib/python3.10/multiprocessing/pool.py:765\u001b[0m, in \u001b[0;36mApplyResult.wait\u001b[0;34m(self, timeout)\u001b[0m\n\u001b[1;32m    764\u001b[0m \u001b[38;5;28;01mdef\u001b[39;00m \u001b[38;5;21mwait\u001b[39m(\u001b[38;5;28mself\u001b[39m, timeout\u001b[38;5;241m=\u001b[39m\u001b[38;5;28;01mNone\u001b[39;00m):\n\u001b[0;32m--> 765\u001b[0m     \u001b[38;5;28;43mself\u001b[39;49m\u001b[38;5;241;43m.\u001b[39;49m\u001b[43m_event\u001b[49m\u001b[38;5;241;43m.\u001b[39;49m\u001b[43mwait\u001b[49m\u001b[43m(\u001b[49m\u001b[43mtimeout\u001b[49m\u001b[43m)\u001b[49m\n",
      "File \u001b[0;32m~/miniconda3/lib/python3.10/threading.py:607\u001b[0m, in \u001b[0;36mEvent.wait\u001b[0;34m(self, timeout)\u001b[0m\n\u001b[1;32m    605\u001b[0m signaled \u001b[38;5;241m=\u001b[39m \u001b[38;5;28mself\u001b[39m\u001b[38;5;241m.\u001b[39m_flag\n\u001b[1;32m    606\u001b[0m \u001b[38;5;28;01mif\u001b[39;00m \u001b[38;5;129;01mnot\u001b[39;00m signaled:\n\u001b[0;32m--> 607\u001b[0m     signaled \u001b[38;5;241m=\u001b[39m \u001b[38;5;28;43mself\u001b[39;49m\u001b[38;5;241;43m.\u001b[39;49m\u001b[43m_cond\u001b[49m\u001b[38;5;241;43m.\u001b[39;49m\u001b[43mwait\u001b[49m\u001b[43m(\u001b[49m\u001b[43mtimeout\u001b[49m\u001b[43m)\u001b[49m\n\u001b[1;32m    608\u001b[0m \u001b[38;5;28;01mreturn\u001b[39;00m signaled\n",
      "File \u001b[0;32m~/miniconda3/lib/python3.10/threading.py:320\u001b[0m, in \u001b[0;36mCondition.wait\u001b[0;34m(self, timeout)\u001b[0m\n\u001b[1;32m    318\u001b[0m \u001b[38;5;28;01mtry\u001b[39;00m:    \u001b[38;5;66;03m# restore state no matter what (e.g., KeyboardInterrupt)\u001b[39;00m\n\u001b[1;32m    319\u001b[0m     \u001b[38;5;28;01mif\u001b[39;00m timeout \u001b[38;5;129;01mis\u001b[39;00m \u001b[38;5;28;01mNone\u001b[39;00m:\n\u001b[0;32m--> 320\u001b[0m         \u001b[43mwaiter\u001b[49m\u001b[38;5;241;43m.\u001b[39;49m\u001b[43macquire\u001b[49m\u001b[43m(\u001b[49m\u001b[43m)\u001b[49m\n\u001b[1;32m    321\u001b[0m         gotit \u001b[38;5;241m=\u001b[39m \u001b[38;5;28;01mTrue\u001b[39;00m\n\u001b[1;32m    322\u001b[0m     \u001b[38;5;28;01melse\u001b[39;00m:\n",
      "\u001b[0;31mKeyboardInterrupt\u001b[0m: "
     ]
    }
   ],
   "source": [
    "with multiprocessing.Pool(processes=32) as pool:\n",
    "    results = pool.starmap(compute_rel, args)"
   ]
  },
  {
   "cell_type": "code",
   "execution_count": 195,
   "metadata": {},
   "outputs": [
    {
     "ename": "NameError",
     "evalue": "name 'results' is not defined",
     "output_type": "error",
     "traceback": [
      "\u001b[0;31m---------------------------------------------------------------------------\u001b[0m",
      "\u001b[0;31mNameError\u001b[0m                                 Traceback (most recent call last)",
      "Cell \u001b[0;32mIn[195], line 1\u001b[0m\n\u001b[0;32m----> 1\u001b[0m \u001b[43mresults\u001b[49m\n",
      "\u001b[0;31mNameError\u001b[0m: name 'results' is not defined"
     ]
    }
   ],
   "source": [
    "results"
   ]
  },
  {
   "cell_type": "code",
   "execution_count": 74,
   "metadata": {},
   "outputs": [],
   "source": [
    "from reliability_comp import reliability"
   ]
  },
  {
   "cell_type": "code",
   "execution_count": 75,
   "metadata": {},
   "outputs": [],
   "source": [
    "def multi_process(dataset):\n",
    "    args = [(i,t) for i,t in zip(dataset, range(len(dataset)))]\n",
    "\n",
    "    with multiprocessing.Pool(processes=32) as pool:\n",
    "        results = pool.starmap(reliability, args)\n",
    "    return results"
   ]
  },
  {
   "cell_type": "code",
   "execution_count": 76,
   "metadata": {},
   "outputs": [
    {
     "data": {
      "text/plain": [
       "[0.7044042672468,\n",
       " 0.5629071194999999,\n",
       " 0.8411593600626164,\n",
       " 0.6783918309900001,\n",
       " 0.9706029275096438,\n",
       " 0.6260682780000001,\n",
       " 0.9038100346015527,\n",
       " 0.8067499831147501,\n",
       " 0.4913080920000001,\n",
       " 0.9126962728908751]"
      ]
     },
     "execution_count": 76,
     "metadata": {},
     "output_type": "execute_result"
    }
   ],
   "source": [
    "multi_process(dataset)"
   ]
  },
  {
   "cell_type": "code",
   "execution_count": 77,
   "metadata": {},
   "outputs": [
    {
     "name": "stdout",
     "output_type": "stream",
     "text": [
      "/Users/farid/Downloads/All-Terminal-Reliability/tmp_files\n"
     ]
    }
   ],
   "source": [
    "!pwd"
   ]
  },
  {
   "cell_type": "code",
   "execution_count": null,
   "metadata": {},
   "outputs": [],
   "source": []
  }
 ],
 "metadata": {
  "kernelspec": {
   "display_name": "base",
   "language": "python",
   "name": "python3"
  },
  "language_info": {
   "codemirror_mode": {
    "name": "ipython",
    "version": 3
   },
   "file_extension": ".py",
   "mimetype": "text/x-python",
   "name": "python",
   "nbconvert_exporter": "python",
   "pygments_lexer": "ipython3",
   "version": "3.10.10"
  }
 },
 "nbformat": 4,
 "nbformat_minor": 2
}
